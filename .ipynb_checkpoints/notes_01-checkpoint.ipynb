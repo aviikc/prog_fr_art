{
 "cells": [
  {
   "cell_type": "markdown",
   "metadata": {},
   "source": [
    "Every name and every expression has a type that determines the operations that may be performed on it. \n",
    "\n",
    "A declaration is a statement that introduces an identifier into the program.\n",
    "A Variable is a piece of data which can be stored. The value of this data can be changed."
   ]
  },
  {
   "cell_type": "code",
   "execution_count": null,
   "metadata": {},
   "outputs": [],
   "source": [
    "name = \"aviik\"\n",
    "name.upper()\n",
    "\n",
    "# Variable name is of type String. that is name is a name is a string value."
   ]
  },
  {
   "cell_type": "markdown",
   "metadata": {},
   "source": [
    "- Numeric\n",
    "- Sequence Type\n",
    "- Boolean\n",
    "- Set\n",
    "- Dictionary\n",
    "- Binary Typesbool\n",
    "- string\n",
    "- int\n",
    "- float\n"
   ]
  },
  {
   "cell_type": "code",
   "execution_count": 4,
   "metadata": {},
   "outputs": [],
   "source": [
    "# DataType Output: str\n",
    "x = \"Hello World\"\n",
    " \n",
    "# DataType Output: int\n",
    "x = 50\n",
    " \n",
    "# DataType Output: float\n",
    "x = 60.5\n",
    " \n",
    "# DataType Output: complex\n",
    "x = 3j\n",
    " \n",
    "# DataType Output: list\n",
    "x = [\"geeks\", \"for\", \"geeks\"]\n",
    " \n",
    "# DataType Output: tuple\n",
    "x = (\"geeks\", \"for\", \"geeks\")\n",
    " \n",
    "# DataType Output: range\n",
    "x = range(10)\n",
    " \n",
    "# DataType Output: dict\n",
    "x = {\"name\": \"Suraj\", \"age\": 24}\n",
    " \n",
    "# DataType Output: set\n",
    "x = {\"geeks\", \"for\", \"geeks\"}\n",
    " \n",
    "# DataType Output: frozenset\n",
    "x = frozenset({\"geeks\", \"for\", \"geeks\"})\n",
    " \n",
    "# DataType Output: bool\n",
    "x = True\n",
    " \n",
    "# DataType Output: bytes\n",
    "x = b\"Geeks\"\n",
    " \n",
    "# DataType Output: bytearray\n",
    "x = bytearray(4)\n",
    " \n",
    "# DataType Output: memoryview\n",
    "x = memoryview(bytes(6))\n",
    " \n",
    "# DataType Output: NoneType\n",
    "x = None"
   ]
  },
  {
   "cell_type": "markdown",
   "metadata": {},
   "source": [
    "#### Arithmatic Operations\n",
    "```\n",
    "+               # plus\n",
    "-               # minus\n",
    "*               # multiply\n",
    "/               # divide\n",
    "%               # remainder\n",
    "```"
   ]
  },
  {
   "cell_type": "markdown",
   "metadata": {},
   "source": [
    "#### Comparison Operations\n",
    "```\n",
    "==              # equal\n",
    "!=              # not equal\n",
    "<               # less than\n",
    ">               # greater than\n",
    "<=              # less than or equal\n",
    ">=              # greater than or equal\n",
    "```"
   ]
  },
  {
   "cell_type": "markdown",
   "metadata": {},
   "source": [
    "In Python, = is the assignment operator and == tests equality."
   ]
  },
  {
   "cell_type": "code",
   "execution_count": null,
   "metadata": {},
   "outputs": [],
   "source": [
    "#TODO: some arithmatic operations\n",
    "\n",
    "#TODO: some comparison operations"
   ]
  }
 ],
 "metadata": {
  "kernelspec": {
   "display_name": "Python 3",
   "language": "python",
   "name": "python3"
  },
  "language_info": {
   "codemirror_mode": {
    "name": "ipython",
    "version": 3
   },
   "file_extension": ".py",
   "mimetype": "text/x-python",
   "name": "python",
   "nbconvert_exporter": "python",
   "pygments_lexer": "ipython3",
   "version": "3.10.10"
  },
  "orig_nbformat": 4
 },
 "nbformat": 4,
 "nbformat_minor": 2
}
