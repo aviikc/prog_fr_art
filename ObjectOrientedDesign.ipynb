{
 "cells": [
  {
   "cell_type": "markdown",
   "id": "2dd2f85f-612e-47fe-8214-2e7aaac519f7",
   "metadata": {},
   "source": [
    "Objects are abstractions.\n",
    "Objects are built with blueprints called classes.\n",
    "Classes can inherit characteristics of one class or many classes."
   ]
  },
  {
   "cell_type": "markdown",
   "id": "b9455791-bdd5-47b8-9d6d-b6648e88ff4f",
   "metadata": {},
   "source": [
    "In Python, classes are object factories defined by the class statement, and returned by the type(obj) built-in function. Class is a dynamic, runtime concept."
   ]
  },
  {
   "cell_type": "code",
   "execution_count": null,
   "id": "69f24dec-5da2-4bc0-89a5-b062c6e9b503",
   "metadata": {},
   "outputs": [],
   "source": [
    "# https://peps.python.org/pep-0483/#types-vs-classes"
   ]
  },
  {
   "cell_type": "code",
   "execution_count": 1,
   "id": "63b95a83-eadf-4e01-8ccb-af500ab8868e",
   "metadata": {},
   "outputs": [],
   "source": [
    "class Wizard:\n",
    "    pass"
   ]
  },
  {
   "cell_type": "code",
   "execution_count": 3,
   "id": "f3a23772-833e-444c-97f8-3e958577f388",
   "metadata": {},
   "outputs": [
    {
     "name": "stdout",
     "output_type": "stream",
     "text": [
      "<__main__.Wizard object at 0x7f231c2bfa10>\n"
     ]
    }
   ],
   "source": [
    "merlin = Wizard()\n",
    "print(merlin)"
   ]
  },
  {
   "cell_type": "code",
   "execution_count": null,
   "id": "5725d8f2-63b2-46c1-90c5-23006794b9b3",
   "metadata": {},
   "outputs": [],
   "source": [
    "class BlenderShape:\n",
    "    self.vertex_positions\n",
    "    self.vertex_colors"
   ]
  },
  {
   "cell_type": "markdown",
   "id": "4359b9c0-28e4-43d7-9231-d4eb52f4c950",
   "metadata": {},
   "source": [
    "### Inheritance"
   ]
  },
  {
   "cell_type": "code",
   "execution_count": 9,
   "id": "59ae2dfb-fa53-409a-a587-c564506d6066",
   "metadata": {},
   "outputs": [],
   "source": [
    "class Employee:\n",
    "    pass\n",
    "class Manager(Employee):\n",
    "    pass"
   ]
  },
  {
   "cell_type": "code",
   "execution_count": 6,
   "id": "e7a005bd-c4c0-4436-a4b4-25a30b1433ed",
   "metadata": {},
   "outputs": [],
   "source": [
    "class Base:\n",
    "    count = 32\n",
    "\n",
    "class Derived(Base):\n",
    "    pass"
   ]
  },
  {
   "cell_type": "code",
   "execution_count": 7,
   "id": "64bf8614-a351-4e2e-ba51-d93481afe4df",
   "metadata": {},
   "outputs": [
    {
     "name": "stdout",
     "output_type": "stream",
     "text": [
      "32\n"
     ]
    }
   ],
   "source": [
    "my_obj = Derived()\n",
    "print(my_obj.count)"
   ]
  },
  {
   "cell_type": "markdown",
   "id": "ca23c940-f3c7-405a-98dd-beb1beba34cc",
   "metadata": {},
   "source": [
    "## Generics"
   ]
  },
  {
   "cell_type": "code",
   "execution_count": 10,
   "id": "27e59246-2683-4694-a943-cdcff13c1950",
   "metadata": {},
   "outputs": [],
   "source": [
    "# https://mypy.readthedocs.io/en/latest/generics.html"
   ]
  },
  {
   "cell_type": "code",
   "execution_count": null,
   "id": "f67bf160-406a-44d0-a8ef-8b0247b7e65b",
   "metadata": {},
   "outputs": [],
   "source": []
  }
 ],
 "metadata": {
  "kernelspec": {
   "display_name": "Python 3 (ipykernel)",
   "language": "python",
   "name": "python3"
  },
  "language_info": {
   "codemirror_mode": {
    "name": "ipython",
    "version": 3
   },
   "file_extension": ".py",
   "mimetype": "text/x-python",
   "name": "python",
   "nbconvert_exporter": "python",
   "pygments_lexer": "ipython3",
   "version": "3.11.5"
  }
 },
 "nbformat": 4,
 "nbformat_minor": 5
}
