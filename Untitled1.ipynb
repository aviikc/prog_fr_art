{
 "cells": [
  {
   "cell_type": "code",
   "execution_count": 18,
   "id": "4a087442-7558-48f4-9543-0c7e0c0e52db",
   "metadata": {},
   "outputs": [],
   "source": [
    "my_list = [67, 5, 7,9, 23, 27, 45, 76]"
   ]
  },
  {
   "cell_type": "code",
   "execution_count": 19,
   "id": "c4cb3a63-0268-41d7-85e0-91c9e644d7f7",
   "metadata": {},
   "outputs": [],
   "source": [
    "my_list.sort()"
   ]
  },
  {
   "cell_type": "code",
   "execution_count": 20,
   "id": "2392ea27-a9e5-4090-a5fd-369953d37a11",
   "metadata": {},
   "outputs": [],
   "source": [
    "my_list.append(123)"
   ]
  },
  {
   "cell_type": "code",
   "execution_count": 21,
   "id": "3a8288c1-4f24-4a49-b7dc-b5ae9eacbd9e",
   "metadata": {},
   "outputs": [
    {
     "name": "stdout",
     "output_type": "stream",
     "text": [
      "[5, 7, 9, 23, 27, 45, 67, 76, 123]\n"
     ]
    }
   ],
   "source": [
    "print(my_list)"
   ]
  },
  {
   "cell_type": "code",
   "execution_count": 4,
   "id": "be1479ad-7e89-481e-adf7-81087c282fa4",
   "metadata": {},
   "outputs": [
    {
     "data": {
      "text/plain": [
       "9"
      ]
     },
     "execution_count": 4,
     "metadata": {},
     "output_type": "execute_result"
    }
   ],
   "source": [
    "len(my_list)"
   ]
  },
  {
   "cell_type": "code",
   "execution_count": 5,
   "id": "609e596c-ec5d-4186-976f-c5c4bb6b21f5",
   "metadata": {},
   "outputs": [
    {
     "data": {
      "text/plain": [
       "8"
      ]
     },
     "execution_count": 5,
     "metadata": {},
     "output_type": "execute_result"
    }
   ],
   "source": [
    "len(\"dafsdfds\")"
   ]
  },
  {
   "cell_type": "code",
   "execution_count": 6,
   "id": "fe63a59c-8310-4b2b-b18b-098a3ce2177c",
   "metadata": {},
   "outputs": [
    {
     "ename": "TypeError",
     "evalue": "object of type 'int' has no len()",
     "output_type": "error",
     "traceback": [
      "\u001b[1;31m---------------------------------------------------------------------------\u001b[0m",
      "\u001b[1;31mTypeError\u001b[0m                                 Traceback (most recent call last)",
      "Cell \u001b[1;32mIn[6], line 1\u001b[0m\n\u001b[1;32m----> 1\u001b[0m \u001b[38;5;28;43mlen\u001b[39;49m\u001b[43m(\u001b[49m\u001b[38;5;241;43m12\u001b[39;49m\u001b[43m)\u001b[49m\n",
      "\u001b[1;31mTypeError\u001b[0m: object of type 'int' has no len()"
     ]
    }
   ],
   "source": [
    "len(12)"
   ]
  },
  {
   "cell_type": "code",
   "execution_count": 7,
   "id": "4291b9ba-27b6-4045-a002-fb0d5197446d",
   "metadata": {},
   "outputs": [
    {
     "data": {
      "text/plain": [
       "1"
      ]
     },
     "execution_count": 7,
     "metadata": {},
     "output_type": "execute_result"
    }
   ],
   "source": [
    "len({\"as\": \"read\"})"
   ]
  },
  {
   "cell_type": "code",
   "execution_count": 8,
   "id": "7956dc26-e5d4-4965-8c7a-91b31ec410a6",
   "metadata": {},
   "outputs": [],
   "source": [
    "my_to_do_list = []"
   ]
  },
  {
   "cell_type": "code",
   "execution_count": 9,
   "id": "36ebe81d-bf32-4093-8026-ebe712feb1d4",
   "metadata": {},
   "outputs": [],
   "source": [
    "my_to_do_list.append(\"study programming\")"
   ]
  },
  {
   "cell_type": "code",
   "execution_count": 10,
   "id": "d6ad7af8-ce5c-4f11-ada2-823a4c871803",
   "metadata": {},
   "outputs": [],
   "source": [
    "my_to_do_list.append(\"make brakfast\")"
   ]
  },
  {
   "cell_type": "code",
   "execution_count": 11,
   "id": "9431e5ac-8aaf-470d-9d56-f8da7175c4f2",
   "metadata": {},
   "outputs": [],
   "source": [
    "my_to_do_list.append(\"goto college\")"
   ]
  },
  {
   "cell_type": "code",
   "execution_count": 12,
   "id": "65892e2a-88ef-4453-bbce-27dbb1f12f66",
   "metadata": {},
   "outputs": [
    {
     "name": "stdout",
     "output_type": "stream",
     "text": [
      "study programming\n",
      "make brakfast\n",
      "goto college\n"
     ]
    }
   ],
   "source": [
    "for k in my_to_do_list:\n",
    "    print(k)"
   ]
  },
  {
   "cell_type": "code",
   "execution_count": 13,
   "id": "4d719950-c41e-465f-a243-b4044600c77b",
   "metadata": {},
   "outputs": [
    {
     "name": "stdin",
     "output_type": "stream",
     "text": [
      "Enter things to do buy biscuits\n"
     ]
    }
   ],
   "source": [
    "y = input(\"Enter things to do\")\n",
    "my_to_do_list.append(y)"
   ]
  },
  {
   "cell_type": "code",
   "execution_count": 14,
   "id": "03304ee5-77a4-44a7-b2d4-96726e31e9cd",
   "metadata": {},
   "outputs": [
    {
     "name": "stdout",
     "output_type": "stream",
     "text": [
      "study programming\n",
      "make brakfast\n",
      "goto college\n",
      "buy biscuits\n"
     ]
    }
   ],
   "source": [
    "for k in my_to_do_list:\n",
    "    print(k)"
   ]
  },
  {
   "cell_type": "code",
   "execution_count": null,
   "id": "2b5e3a3c-a0ac-465a-8c99-380cd2ff5508",
   "metadata": {},
   "outputs": [],
   "source": []
  }
 ],
 "metadata": {
  "kernelspec": {
   "display_name": "Python 3 (ipykernel)",
   "language": "python",
   "name": "python3"
  },
  "language_info": {
   "codemirror_mode": {
    "name": "ipython",
    "version": 3
   },
   "file_extension": ".py",
   "mimetype": "text/x-python",
   "name": "python",
   "nbconvert_exporter": "python",
   "pygments_lexer": "ipython3",
   "version": "3.10.10"
  }
 },
 "nbformat": 4,
 "nbformat_minor": 5
}
