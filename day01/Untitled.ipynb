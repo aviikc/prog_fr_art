{
 "cells": [
  {
   "cell_type": "code",
   "execution_count": 1,
   "metadata": {},
   "outputs": [],
   "source": [
    "import requests\n",
    "import json"
   ]
  },
  {
   "cell_type": "code",
   "execution_count": 2,
   "metadata": {},
   "outputs": [
    {
     "name": "stdout",
     "output_type": "stream",
     "text": [
      "{'type': 'success', 'value': {'id': 304, 'joke': \"It is said that looking into Chuck Norris' eyes will reveal your future. Unfortunately, everybody's future is always the same: death by a roundhouse-kick to the face.\", 'categories': []}}\n"
     ]
    }
   ],
   "source": [
    "url = \"http://api.icndb.com/jokes/random\"\n",
    "m = requests.get(url)\n",
    "my_json = json.loads(m.text)\n",
    "print(my_json)\n",
    "#print(my_json['value']['joke'])"
   ]
  },
  {
   "cell_type": "code",
   "execution_count": 1,
   "metadata": {},
   "outputs": [],
   "source": [
    "a = 5\n",
    "b = 7\n",
    "j = 2334\n",
    "dw = 45.6\n",
    "aviik = \"1234\""
   ]
  },
  {
   "cell_type": "code",
   "execution_count": 27,
   "metadata": {},
   "outputs": [
    {
     "name": "stdout",
     "output_type": "stream",
     "text": [
      "5\n"
     ]
    }
   ],
   "source": [
    "print(a)"
   ]
  },
  {
   "cell_type": "code",
   "execution_count": 28,
   "metadata": {},
   "outputs": [
    {
     "name": "stdout",
     "output_type": "stream",
     "text": [
      "<class 'int'>\n"
     ]
    }
   ],
   "source": [
    "print(type(a))"
   ]
  },
  {
   "cell_type": "code",
   "execution_count": 16,
   "metadata": {},
   "outputs": [
    {
     "name": "stdout",
     "output_type": "stream",
     "text": [
      "<class 'str'>\n"
     ]
    }
   ],
   "source": [
    "print(type(url))"
   ]
  },
  {
   "cell_type": "code",
   "execution_count": 17,
   "metadata": {},
   "outputs": [
    {
     "name": "stdout",
     "output_type": "stream",
     "text": [
      "<class 'dict'>\n"
     ]
    }
   ],
   "source": [
    "print(type(my_json))"
   ]
  },
  {
   "cell_type": "code",
   "execution_count": 18,
   "metadata": {},
   "outputs": [
    {
     "name": "stdout",
     "output_type": "stream",
     "text": [
      "<class 'float'>\n"
     ]
    }
   ],
   "source": [
    "print(type(dw))"
   ]
  },
  {
   "cell_type": "code",
   "execution_count": 20,
   "metadata": {},
   "outputs": [
    {
     "name": "stdout",
     "output_type": "stream",
     "text": [
      "12\n"
     ]
    }
   ],
   "source": [
    "print(a+b)"
   ]
  },
  {
   "cell_type": "markdown",
   "metadata": {},
   "source": [
    "print(a+ url) // bad code gives error"
   ]
  },
  {
   "cell_type": "markdown",
   "metadata": {},
   "source": [
    "objective: joke_56"
   ]
  },
  {
   "cell_type": "code",
   "execution_count": 30,
   "metadata": {},
   "outputs": [],
   "source": [
    "a = \"joke\"\n",
    "b = 56"
   ]
  },
  {
   "cell_type": "code",
   "execution_count": 31,
   "metadata": {},
   "outputs": [
    {
     "name": "stdout",
     "output_type": "stream",
     "text": [
      "joke\n"
     ]
    }
   ],
   "source": [
    "print(a)"
   ]
  },
  {
   "cell_type": "code",
   "execution_count": 32,
   "metadata": {},
   "outputs": [
    {
     "name": "stdout",
     "output_type": "stream",
     "text": [
      "<class 'str'>\n"
     ]
    }
   ],
   "source": [
    "print(type(a))"
   ]
  },
  {
   "cell_type": "code",
   "execution_count": 40,
   "metadata": {},
   "outputs": [],
   "source": [
    "hms = a + \"_\" + str(b)"
   ]
  },
  {
   "cell_type": "markdown",
   "metadata": {},
   "source": [
    "https://aviikc.netlify.app/notes/python-hacks/#data-type-conversion-on-the-go"
   ]
  },
  {
   "cell_type": "code",
   "execution_count": 35,
   "metadata": {},
   "outputs": [],
   "source": [
    "jk = \"556\"\n",
    "jk2 = 556\n",
    "jk3 = \"55.6\""
   ]
  },
  {
   "cell_type": "code",
   "execution_count": 36,
   "metadata": {},
   "outputs": [],
   "source": [
    "import os"
   ]
  },
  {
   "cell_type": "code",
   "execution_count": 37,
   "metadata": {},
   "outputs": [
    {
     "name": "stdout",
     "output_type": "stream",
     "text": [
      "posix\n"
     ]
    }
   ],
   "source": [
    "print(os.name)"
   ]
  },
  {
   "cell_type": "code",
   "execution_count": 38,
   "metadata": {},
   "outputs": [
    {
     "name": "stdout",
     "output_type": "stream",
     "text": [
      "environ({'CASROOT': '/usr', 'COLORTERM': 'truecolor', 'CONDA_DEFAULT_ENV': 'base', 'CONDA_EXE': '/home/aviik/anaconda3/bin/conda', 'CONDA_PREFIX': '/home/aviik/anaconda3', 'CONDA_PROMPT_MODIFIER': '(base) ', 'CONDA_PYTHON_EXE': '/home/aviik/anaconda3/bin/python', 'CONDA_SHLVL': '1', 'CSF_DrawPluginDefaults': '/usr/share/opencascade/resources/DrawResources', 'CSF_EXCEPTION_PROMPT': '1', 'CSF_IGESDefaults': '/usr/share/opencascade/resources/XSTEPResource', 'CSF_LANGUAGE': 'us', 'CSF_MDTVTexturesDirectory': '/usr/share/opencascade/resources/Textures', 'CSF_MIGRATION_TYPES': '/usr/share/opencascade/resources/StdResource/MigrationSheet.txt', 'CSF_OCCTResourcePath': '/usr/share/opencascade/resources', 'CSF_PluginDefaults': '/usr/share/opencascade/resources/StdResource', 'CSF_SHMessage': '/usr/share/opencascade/resources/SHMessage', 'CSF_STEPDefaults': '/usr/share/opencascade/resources/XSTEPResource', 'CSF_ShadersDirectory': '/usr/share/opencascade/resources/Shaders', 'CSF_StandardDefaults': '/usr/share/opencascade/resources/StdResource', 'CSF_StandardLiteDefaults': '/usr/share/opencascade/resources/StdResource', 'CSF_TObjDefaults': '/usr/share/opencascade/resources/StdResource', 'CSF_TObjMessage': '/usr/share/opencascade/resources/TObj', 'CSF_XCAFDefaults': '/usr/share/opencascade/resources/StdResource', 'CSF_XSMessage': '/usr/share/opencascade/resources/XSMessage', 'CSF_XmlOcafResource': '/usr/share/opencascade/resources/XmlOcafResource', 'DBUS_SESSION_BUS_ADDRESS': 'unix:path=/run/user/1000/bus', 'DISPLAY': ':0', 'DRAWDEFAULT': '/usr/share/opencascade/resources/DrawResources/DrawDefault', 'DRAWHOME': '/usr/share/opencascade/resources/DrawResources', 'EDITOR': 'nvim', 'FLUTTER_HOME': '/opt/flutter', 'GTK_MODULES': 'canberra-gtk-module', 'HOME': '/home/aviik', 'INVOCATION_ID': 'f12dac89973441e8a52b6f23e708f59e', 'JOURNAL_STREAM': '8:16049', 'KITTY_WINDOW_ID': '1', 'LANG': 'en_US.UTF-8', 'LC_ALL': 'en_US.UTF-8', 'LOGNAME': 'aviik', 'MAIL': '/var/spool/mail/aviik', 'MMGT_CLEAR': '1', 'MOTD_SHOWN': 'pam', 'OMF_CONFIG': '/home/aviik/.config/omf', 'OMF_PATH': '/home/aviik/.local/share/omf', 'PATH': '/home/aviik/anaconda3/bin:/home/aviik/.fzf/bin:/home/aviik/.cabal/bin:/home/aviik/.ghcup/bin:/home/aviik/anaconda3/condabin:/home/aviik/.cargo/bin:/home/aviik/.local/bin:/usr/local/sbin:/usr/local/bin:/usr/bin:/opt/flutter/bin:/usr/lib/jvm/default/bin:/usr/bin/site_perl:/usr/bin/vendor_perl:/usr/bin/core_perl', 'PWD': '/home/aviik/Sync/wwi_ed/programming_for_artists/2021_prg_arst_online', 'PYTHONDOCS': '/usr/share/doc/python/html/library', 'SHELL': '/bin/bash', 'SHLVL': '4', 'STARSHIP_SESSION_KEY': '6479514760851539', 'STARSHIP_SHELL': 'fish', 'TERM': 'xterm-color', 'TERMINFO': '/usr/lib/kitty/terminfo', 'USER': 'aviik', 'WINDOWID': '10485771', 'WINDOWPATH': '1', 'XAUTHORITY': '/home/aviik/.Xauthority', 'XDG_RUNTIME_DIR': '/run/user/1000', 'XDG_SEAT': 'seat0', 'XDG_SESSION_CLASS': 'user', 'XDG_SESSION_ID': '1', 'XDG_SESSION_TYPE': 'tty', 'XDG_VTNR': '1', '_CE_CONDA': '', '_CE_M': '', 'JPY_PARENT_PID': '306310', 'CLICOLOR': '1', 'PAGER': 'cat', 'GIT_PAGER': 'cat', 'MPLBACKEND': 'module://ipykernel.pylab.backend_inline'})\n"
     ]
    }
   ],
   "source": [
    "print(os.environ)"
   ]
  },
  {
   "cell_type": "markdown",
   "metadata": {},
   "source": [
    "echo %USER% // gives a global variable"
   ]
  },
  {
   "cell_type": "code",
   "execution_count": 41,
   "metadata": {},
   "outputs": [],
   "source": [
    "os.mkdir(hms)"
   ]
  },
  {
   "cell_type": "code",
   "execution_count": null,
   "metadata": {},
   "outputs": [],
   "source": []
  }
 ],
 "metadata": {
  "kernelspec": {
   "display_name": "Python 3",
   "language": "python",
   "name": "python3"
  },
  "language_info": {
   "codemirror_mode": {
    "name": "ipython",
    "version": 3
   },
   "file_extension": ".py",
   "mimetype": "text/x-python",
   "name": "python",
   "nbconvert_exporter": "python",
   "pygments_lexer": "ipython3",
   "version": "3.7.6"
  }
 },
 "nbformat": 4,
 "nbformat_minor": 4
}
