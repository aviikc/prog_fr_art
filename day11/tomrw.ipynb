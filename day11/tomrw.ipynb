{
 "cells": [
  {
   "cell_type": "markdown",
   "metadata": {},
   "source": [
    "Agenda:\n",
    "- Exceptions\n",
    "- Functions\n",
    "- Inheritance\n",
    "- Data hiding inclass"
   ]
  },
  {
   "cell_type": "markdown",
   "metadata": {},
   "source": [
    "# Exceptions"
   ]
  },
  {
   "cell_type": "markdown",
   "metadata": {},
   "source": [
    "Python Errors\n",
    "- NameError\n",
    "- TypeError\n",
    "- ZeroDivisionError\n",
    "- AttributeError"
   ]
  },
  {
   "cell_type": "code",
   "execution_count": 2,
   "metadata": {},
   "outputs": [
    {
     "name": "stdout",
     "output_type": "stream",
     "text": [
      "Enter a Year: 2016\n",
      "Leap Year\n",
      "Bye !\n"
     ]
    }
   ],
   "source": [
    "# Test if year is leap year\n",
    "try:\n",
    "    num = int(input(\"Enter a Year: \"))\n",
    "    assert num % 4 == 0\n",
    "except AssertionError:\n",
    "    print(\"Not Leap Year\")\n",
    "except (TypeError, ValueError):\n",
    "    print(\"Enter Proper Year in numbers!\")\n",
    "else:\n",
    "    try:\n",
    "        assert num%100==0\n",
    "    except:\n",
    "        print(\"Leap Year\")\n",
    "    else:\n",
    "        if num%400==0:\n",
    "            print(\"Leap year\")  \n",
    "        else:\n",
    "            print(\"Not Leap year\")\n",
    "finally:\n",
    "    print(\"Bye !\")"
   ]
  },
  {
   "cell_type": "markdown",
   "metadata": {},
   "source": [
    "A custom Exception can be defined like this,\n",
    "```\n",
    "class CustomException(Exception):\n",
    "    pass\n",
    "```\n",
    "\n",
    "And can be used as:"
   ]
  },
  {
   "cell_type": "code",
   "execution_count": 5,
   "metadata": {
    "scrolled": true
   },
   "outputs": [
    {
     "name": "stdout",
     "output_type": "stream",
     "text": [
      "Enter a number: sd\n"
     ]
    },
    {
     "ename": "CustomException",
     "evalue": "Enter a number",
     "output_type": "error",
     "traceback": [
      "\u001b[1;31m---------------------------------------------------------------------------\u001b[0m",
      "\u001b[1;31mValueError\u001b[0m                                Traceback (most recent call last)",
      "\u001b[1;32m<ipython-input-5-a8605ead98e8>\u001b[0m in \u001b[0;36m<module>\u001b[1;34m\u001b[0m\n\u001b[0;32m      4\u001b[0m \u001b[1;32mtry\u001b[0m\u001b[1;33m:\u001b[0m\u001b[1;33m\u001b[0m\u001b[1;33m\u001b[0m\u001b[0m\n\u001b[1;32m----> 5\u001b[1;33m     \u001b[0minp_a\u001b[0m \u001b[1;33m=\u001b[0m \u001b[0mint\u001b[0m\u001b[1;33m(\u001b[0m\u001b[0minput\u001b[0m\u001b[1;33m(\u001b[0m\u001b[1;34m\"Enter a number: \"\u001b[0m\u001b[1;33m)\u001b[0m\u001b[1;33m)\u001b[0m\u001b[1;33m\u001b[0m\u001b[1;33m\u001b[0m\u001b[0m\n\u001b[0m\u001b[0;32m      6\u001b[0m \u001b[1;32mexcept\u001b[0m \u001b[0mValueError\u001b[0m\u001b[1;33m:\u001b[0m\u001b[1;33m\u001b[0m\u001b[1;33m\u001b[0m\u001b[0m\n",
      "\u001b[1;31mValueError\u001b[0m: invalid literal for int() with base 10: 'sd'",
      "\nDuring handling of the above exception, another exception occurred:\n",
      "\u001b[1;31mCustomException\u001b[0m                           Traceback (most recent call last)",
      "\u001b[1;32m<ipython-input-5-a8605ead98e8>\u001b[0m in \u001b[0;36m<module>\u001b[1;34m\u001b[0m\n\u001b[0;32m      5\u001b[0m     \u001b[0minp_a\u001b[0m \u001b[1;33m=\u001b[0m \u001b[0mint\u001b[0m\u001b[1;33m(\u001b[0m\u001b[0minput\u001b[0m\u001b[1;33m(\u001b[0m\u001b[1;34m\"Enter a number: \"\u001b[0m\u001b[1;33m)\u001b[0m\u001b[1;33m)\u001b[0m\u001b[1;33m\u001b[0m\u001b[1;33m\u001b[0m\u001b[0m\n\u001b[0;32m      6\u001b[0m \u001b[1;32mexcept\u001b[0m \u001b[0mValueError\u001b[0m\u001b[1;33m:\u001b[0m\u001b[1;33m\u001b[0m\u001b[1;33m\u001b[0m\u001b[0m\n\u001b[1;32m----> 7\u001b[1;33m     \u001b[1;32mraise\u001b[0m \u001b[0mCustomException\u001b[0m\u001b[1;33m(\u001b[0m\u001b[1;34m\"Enter a number\"\u001b[0m\u001b[1;33m)\u001b[0m\u001b[1;33m\u001b[0m\u001b[1;33m\u001b[0m\u001b[0m\n\u001b[0m",
      "\u001b[1;31mCustomException\u001b[0m: Enter a number"
     ]
    }
   ],
   "source": [
    "class CustomException(Exception):\n",
    "    pass\n",
    "\n",
    "try:\n",
    "    inp_a = int(input(\"Enter a number: \"))\n",
    "except ValueError:\n",
    "    raise CustomException(\"Enter a number\")"
   ]
  },
  {
   "cell_type": "markdown",
   "metadata": {},
   "source": [
    "# Functions"
   ]
  },
  {
   "cell_type": "markdown",
   "metadata": {},
   "source": [
    "### Functions as objects"
   ]
  },
  {
   "cell_type": "code",
   "execution_count": 27,
   "metadata": {},
   "outputs": [],
   "source": [
    "# this function returns the greater value between two numbers and 0 if equal or error\n",
    "\n",
    "def myFunc(a,b):\n",
    "    try:\n",
    "        if a>b:\n",
    "            return a\n",
    "        elif b>a:\n",
    "            return b\n",
    "        else:\n",
    "            return 0\n",
    "    except ValueError:\n",
    "        return 0\n",
    "    "
   ]
  },
  {
   "cell_type": "markdown",
   "metadata": {},
   "source": [
    "Remember we created classes like this.\n",
    "```\n",
    "class Animal:\n",
    "    def __init__(self, name):\n",
    "        self.name = name\n",
    " ```\n",
    " And created an object of the class Animal by.\n",
    " ```\n",
    " cow = Animal(\"my cow\")\n",
    " ```\n",
    " \n",
    "Turns out in Python we can create objects out of functions too."
   ]
  },
  {
   "cell_type": "code",
   "execution_count": 30,
   "metadata": {},
   "outputs": [
    {
     "data": {
      "text/plain": [
       "9"
      ]
     },
     "execution_count": 30,
     "metadata": {},
     "output_type": "execute_result"
    }
   ],
   "source": [
    "# Creating a function object\n",
    "num = myFunc\n",
    "\n",
    "# using the function object\n",
    "num(7,9)"
   ]
  },
  {
   "cell_type": "markdown",
   "metadata": {},
   "source": [
    "### Lambda Functions or Anonymous Functions"
   ]
  },
  {
   "cell_type": "code",
   "execution_count": 7,
   "metadata": {},
   "outputs": [
    {
     "name": "stdout",
     "output_type": "stream",
     "text": [
      "11\n"
     ]
    }
   ],
   "source": [
    "def add_me(x,y):\n",
    "    return x+y\n",
    "\n",
    "m = add_me(5,6)\n",
    "print(m)"
   ]
  },
  {
   "cell_type": "code",
   "execution_count": 8,
   "metadata": {},
   "outputs": [
    {
     "data": {
      "text/plain": [
       "18"
      ]
     },
     "execution_count": 8,
     "metadata": {},
     "output_type": "execute_result"
    }
   ],
   "source": [
    "(lambda a,b,c: a+b+c)(3,6,9)"
   ]
  },
  {
   "cell_type": "code",
   "execution_count": 9,
   "metadata": {},
   "outputs": [
    {
     "data": {
      "text/plain": [
       "36"
      ]
     },
     "execution_count": 9,
     "metadata": {},
     "output_type": "execute_result"
    }
   ],
   "source": [
    "(lambda a:a**2)(6)"
   ]
  },
  {
   "cell_type": "code",
   "execution_count": 22,
   "metadata": {},
   "outputs": [],
   "source": [
    "m = lambda x,y:x+y"
   ]
  },
  {
   "cell_type": "code",
   "execution_count": 23,
   "metadata": {},
   "outputs": [
    {
     "data": {
      "text/plain": [
       "11"
      ]
     },
     "execution_count": 23,
     "metadata": {},
     "output_type": "execute_result"
    }
   ],
   "source": [
    "#usage\n",
    "m(5,6)"
   ]
  },
  {
   "cell_type": "markdown",
   "metadata": {},
   "source": [
    "**A better way to find if a number is even or odd.**"
   ]
  },
  {
   "cell_type": "code",
   "execution_count": 24,
   "metadata": {},
   "outputs": [],
   "source": [
    "m = lambda x : \"even\" if x%2==0 else \"odd\""
   ]
  },
  {
   "cell_type": "code",
   "execution_count": 25,
   "metadata": {},
   "outputs": [
    {
     "data": {
      "text/plain": [
       "'odd'"
      ]
     },
     "execution_count": 25,
     "metadata": {},
     "output_type": "execute_result"
    }
   ],
   "source": [
    "#Usage\n",
    "m(5)"
   ]
  },
  {
   "cell_type": "markdown",
   "metadata": {},
   "source": [
    "### Functions as data type"
   ]
  },
  {
   "cell_type": "code",
   "execution_count": 10,
   "metadata": {},
   "outputs": [],
   "source": [
    "def add(a, b):\n",
    "    return a+b\n",
    "\n",
    "def substract(a, b):\n",
    "    return a-b\n",
    "\n",
    "def mult(a, b):\n",
    "    return a*b\n",
    "\n",
    "def div(a, b):\n",
    "    return a/b\n",
    "\n",
    "# my_list_of_funcs = [add,\n",
    "#                    substract,\n",
    "#                    mult,\n",
    "#                    div]\n",
    "\n",
    "\n",
    "def operation_check(*args):\n",
    "    ops = {\n",
    "            \"add\":add,\n",
    "            \"sub\": substract,\n",
    "            \"mult\": mult,\n",
    "            \"div\": div\n",
    "          }                                   # above fuctions in the dictionary ops as key value pairs\n",
    "    if args[0] in list(ops.keys()):\n",
    "        m = int(input(\"Enter number a: \"))\n",
    "        n = int(input(\"Enter number b: \"))\n",
    "        current_op = ops[args[0]]            # fuction being used as an object\n",
    "        print(current_op(m,n))"
   ]
  },
  {
   "cell_type": "code",
   "execution_count": 15,
   "metadata": {},
   "outputs": [
    {
     "name": "stdout",
     "output_type": "stream",
     "text": [
      "Enter number a: 7\n",
      "Enter number b: 19\n",
      "-12\n"
     ]
    }
   ],
   "source": [
    "# Usage\n",
    "operation_check(\"sub\")"
   ]
  },
  {
   "cell_type": "markdown",
   "metadata": {},
   "source": [
    "**This can be even more Pythonised with lambda expressions.**"
   ]
  },
  {
   "cell_type": "code",
   "execution_count": 13,
   "metadata": {},
   "outputs": [],
   "source": [
    "def efficient_calculator(*args):\n",
    "    ops = {\n",
    "            \"add\":lambda x,y: x+y,\n",
    "            \"sub\": lambda x,y: x-y if x>y else y-x,\n",
    "            \"mult\": lambda x,y: x*y,\n",
    "            \"div\": lambda x,y: x/y \n",
    "          }                                   # above fuctions in the dictionary ops as key value pairs\n",
    "    if args[0] in list(ops.keys()):\n",
    "        m = int(input(\"Enter number a: \"))\n",
    "        n = int(input(\"Enter number b: \"))\n",
    "        current_op = ops[args[0]]            # fuction being used as an object\n",
    "        print(current_op(m,n))"
   ]
  },
  {
   "cell_type": "code",
   "execution_count": 14,
   "metadata": {},
   "outputs": [
    {
     "name": "stdout",
     "output_type": "stream",
     "text": [
      "Enter number a: 7\n",
      "Enter number b: 19\n",
      "12\n"
     ]
    }
   ],
   "source": [
    "#usage\n",
    "efficient_calculator(\"sub\")"
   ]
  },
  {
   "cell_type": "markdown",
   "metadata": {},
   "source": [
    "### Functions as arguements to other functions"
   ]
  },
  {
   "cell_type": "code",
   "execution_count": 20,
   "metadata": {},
   "outputs": [
    {
     "name": "stdout",
     "output_type": "stream",
     "text": [
      "2 3 4 5 6 7 8 9 10\n"
     ]
    }
   ],
   "source": [
    "# List Comprehension\n",
    "m = [i for i in range(2, 11)]\n",
    "print(*m)"
   ]
  },
  {
   "cell_type": "code",
   "execution_count": 21,
   "metadata": {},
   "outputs": [
    {
     "name": "stdout",
     "output_type": "stream",
     "text": [
      "25 100 49 196 625 1296\n",
      "[125, 1000, 343, 2744, 15625, 46656]\n",
      "[3125, 100000, 16807, 537824, 9765625, 60466176]\n"
     ]
    }
   ],
   "source": [
    "# printing squres of all numbers in a list. \n",
    "myList = [5,10,7,14,25,36]\n",
    "print(*[i**2 for i in myList])\n",
    "\n",
    "#cubing the same list should look like\n",
    "print([i**3 for i in myList])\n",
    "\n",
    "#following pattern, to the power 5 should look like\n",
    "print([i**5 for i in myList])"
   ]
  },
  {
   "cell_type": "markdown",
   "metadata": {},
   "source": [
    "This kind of single operation list comprehension is easy when the iterated data is as simple as an integer without much conditions. Lets add some complexity to the square problem."
   ]
  },
  {
   "cell_type": "code",
   "execution_count": 22,
   "metadata": {},
   "outputs": [
    {
     "name": "stdout",
     "output_type": "stream",
     "text": [
      "[25, 49, 625]\n"
     ]
    }
   ],
   "source": [
    "# printing squres of all numbers in a list that are odd\n",
    "print([i**2 for i in myList if i%2!=0])"
   ]
  },
  {
   "cell_type": "markdown",
   "metadata": {},
   "source": [
    "Lets turn up the complexity. Lets add a mixed list with some strings. We need to squre the even numbers and leave anything else as it is. That means, if\n",
    "```\n",
    "my_new_list = [2, 4, 5, \"abc\", 6, 9, \"cat\"]\n",
    "```\n",
    "The expected output is\n",
    "```\n",
    "[4, 16, 5, \"abc\", 36, 9, \"cat\"]\n",
    "```"
   ]
  },
  {
   "cell_type": "code",
   "execution_count": 23,
   "metadata": {},
   "outputs": [
    {
     "name": "stdout",
     "output_type": "stream",
     "text": [
      "[4, 16, 5, 'abc', 36, 9, 'cat']\n"
     ]
    }
   ],
   "source": [
    "my_new_list = [2, 4, 5, \"abc\", 6, 9, \"cat\"]\n",
    "\n",
    "def sq_maker(m: list) -> list:\n",
    "    k = []\n",
    "    for i in m:\n",
    "        try:\n",
    "            if i%2 == 0:\n",
    "                k.append(i**2)\n",
    "            else:\n",
    "                k.append(i)\n",
    "        except TypeError:\n",
    "            k.append(i)\n",
    "    return k\n",
    "\n",
    "#usage\n",
    "m = sq_maker(my_new_list)\n",
    "print(m)"
   ]
  },
  {
   "cell_type": "code",
   "execution_count": null,
   "metadata": {},
   "outputs": [],
   "source": [
    "map(fn, iteratable)"
   ]
  },
  {
   "cell_type": "code",
   "execution_count": 24,
   "metadata": {},
   "outputs": [
    {
     "data": {
      "text/plain": [
       "[4, 16, 5, 'abc', 36, 9, 'cat']"
      ]
     },
     "execution_count": 24,
     "metadata": {},
     "output_type": "execute_result"
    }
   ],
   "source": [
    "# introducing the map function\n",
    "list(map(lambda x : x**2 if type(x)==int and x%2==0 else x, my_new_list))"
   ]
  },
  {
   "cell_type": "markdown",
   "metadata": {},
   "source": [
    "### Nested Functions"
   ]
  },
  {
   "cell_type": "code",
   "execution_count": 31,
   "metadata": {},
   "outputs": [],
   "source": [
    "class MyCustomExceptionError(Exception):\n",
    "    pass\n",
    "\n",
    "def calculator_again(num1, num2, op):\n",
    "    def add():                              # Observe that there are no arguements mentioned here\n",
    "        return num1+num2\n",
    "    def divide():\n",
    "        return numi/num2\n",
    "    def mult():\n",
    "        return num1*num2\n",
    "    def subs():\n",
    "        return num1-num2 if num1>num2 else num2-num1\n",
    "    \n",
    "    if op == 'add':\n",
    "        return add\n",
    "    elif op == 'sub':\n",
    "        return subs\n",
    "    elif op == 'div':\n",
    "        return divide\n",
    "    elif op == 'mult':\n",
    "        return mult\n",
    "    else:\n",
    "        raise MyCustomExceptionError(\"Dont be so silly\")"
   ]
  },
  {
   "cell_type": "code",
   "execution_count": null,
   "metadata": {},
   "outputs": [],
   "source": [
    "# usage\n",
    "calculator_again(7, 45, \"sub\")()"
   ]
  },
  {
   "cell_type": "markdown",
   "metadata": {},
   "source": [
    "The inner functions could access all the arguements of the outer function. A fuction that can do this are called \n",
    "**lexical closures** or **closures**."
   ]
  },
  {
   "cell_type": "markdown",
   "metadata": {},
   "source": [
    "### Decorators"
   ]
  },
  {
   "cell_type": "code",
   "execution_count": 2,
   "metadata": {},
   "outputs": [
    {
     "name": "stdout",
     "output_type": "stream",
     "text": [
      "Enter a: 3\n",
      "Enter b: 6\n",
      "9\n"
     ]
    }
   ],
   "source": [
    "def new_diabolical_calc(m):\n",
    "    i = int(input(\"Enter a: \"))\n",
    "    j = int(input(\"Enter b: \"))\n",
    "    return m(i, j)\n",
    "\n",
    "\n",
    "@new_diabolical_calc\n",
    "def add(m, n):\n",
    "    print(m+n)\n",
    "    return m+n"
   ]
  },
  {
   "cell_type": "code",
   "execution_count": 3,
   "metadata": {},
   "outputs": [],
   "source": [
    "\n"
   ]
  },
  {
   "cell_type": "code",
   "execution_count": null,
   "metadata": {},
   "outputs": [],
   "source": [
    "class "
   ]
  }
 ],
 "metadata": {
  "kernelspec": {
   "display_name": "Python 3",
   "language": "python",
   "name": "python3"
  },
  "language_info": {
   "codemirror_mode": {
    "name": "ipython",
    "version": 3
   },
   "file_extension": ".py",
   "mimetype": "text/x-python",
   "name": "python",
   "nbconvert_exporter": "python",
   "pygments_lexer": "ipython3",
   "version": "3.8.5"
  }
 },
 "nbformat": 4,
 "nbformat_minor": 4
}
