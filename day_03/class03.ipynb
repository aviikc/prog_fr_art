{
 "cells": [
  {
   "cell_type": "markdown",
   "id": "43c17d94",
   "metadata": {},
   "source": [
    "### Variables"
   ]
  },
  {
   "cell_type": "code",
   "execution_count": 17,
   "id": "8d666a4b",
   "metadata": {},
   "outputs": [],
   "source": [
    "var = True"
   ]
  },
  {
   "cell_type": "code",
   "execution_count": 20,
   "id": "ce0624fc",
   "metadata": {},
   "outputs": [],
   "source": [
    "tiger_name=\"Jonny\"\n",
    "tiger_species=\"Semerian\"\n",
    "front_left_paw_width=5.45\n",
    "front_right_paw_length=3.55"
   ]
  },
  {
   "cell_type": "code",
   "execution_count": 21,
   "id": "4e220837",
   "metadata": {},
   "outputs": [
    {
     "data": {
      "text/plain": [
       "float"
      ]
     },
     "execution_count": 21,
     "metadata": {},
     "output_type": "execute_result"
    }
   ],
   "source": [
    "type(front_right_paw_length)"
   ]
  },
  {
   "cell_type": "markdown",
   "id": "7ee14646",
   "metadata": {},
   "source": [
    "### Data Types"
   ]
  },
  {
   "cell_type": "markdown",
   "id": "cce9dd0a",
   "metadata": {},
   "source": [
    "integer, float, string, boolean, None"
   ]
  },
  {
   "cell_type": "markdown",
   "id": "fe2f53d6",
   "metadata": {},
   "source": [
    "negive infinity to positive infinity"
   ]
  },
  {
   "cell_type": "code",
   "execution_count": 4,
   "id": "30fe2ccb",
   "metadata": {},
   "outputs": [],
   "source": [
    "x = 5\n",
    "x =6\n",
    "x=8\n",
    "x=17238\n",
    "x=-435"
   ]
  },
  {
   "cell_type": "code",
   "execution_count": 7,
   "id": "1c3887db",
   "metadata": {},
   "outputs": [
    {
     "data": {
      "text/plain": [
       "float"
      ]
     },
     "execution_count": 7,
     "metadata": {},
     "output_type": "execute_result"
    }
   ],
   "source": [
    "type(-5.4)"
   ]
  },
  {
   "cell_type": "markdown",
   "id": "05714ad1",
   "metadata": {},
   "source": [
    "float"
   ]
  },
  {
   "cell_type": "markdown",
   "id": "abbbf0c7",
   "metadata": {},
   "source": [
    "Strings"
   ]
  },
  {
   "cell_type": "code",
   "execution_count": 8,
   "id": "a9a5a073",
   "metadata": {},
   "outputs": [
    {
     "data": {
      "text/plain": [
       "'sdfhjkvbsdfhjk'"
      ]
     },
     "execution_count": 8,
     "metadata": {},
     "output_type": "execute_result"
    }
   ],
   "source": [
    "\"sdfhjkvbsdfhjk\""
   ]
  },
  {
   "cell_type": "code",
   "execution_count": 9,
   "id": "331b555d",
   "metadata": {
    "scrolled": true
   },
   "outputs": [
    {
     "data": {
      "text/plain": [
       "'Г \\tД \\tЄ \\tЅ \\tЗ \\tИ \\tѲ'"
      ]
     },
     "execution_count": 9,
     "metadata": {},
     "output_type": "execute_result"
    }
   ],
   "source": [
    "\"Г \tД \tЄ \tЅ \tЗ \tИ \tѲ\""
   ]
  },
  {
   "cell_type": "code",
   "execution_count": 10,
   "id": "353f3c7d",
   "metadata": {},
   "outputs": [
    {
     "data": {
      "text/plain": [
       "str"
      ]
     },
     "execution_count": 10,
     "metadata": {},
     "output_type": "execute_result"
    }
   ],
   "source": [
    "type(\"Г \tД \tЄ \tЅ \tЗ \tИ \tѲ\")"
   ]
  },
  {
   "cell_type": "code",
   "execution_count": 11,
   "id": "459e9403",
   "metadata": {},
   "outputs": [
    {
     "data": {
      "text/plain": [
       "str"
      ]
     },
     "execution_count": 11,
     "metadata": {},
     "output_type": "execute_result"
    }
   ],
   "source": [
    "type(\"3453\")"
   ]
  },
  {
   "cell_type": "code",
   "execution_count": 14,
   "id": "d1ed22df",
   "metadata": {},
   "outputs": [
    {
     "data": {
      "text/plain": [
       "bool"
      ]
     },
     "execution_count": 14,
     "metadata": {},
     "output_type": "execute_result"
    }
   ],
   "source": [
    "type(True)"
   ]
  },
  {
   "cell_type": "code",
   "execution_count": 15,
   "id": "34958a27",
   "metadata": {},
   "outputs": [
    {
     "data": {
      "text/plain": [
       "NoneType"
      ]
     },
     "execution_count": 15,
     "metadata": {},
     "output_type": "execute_result"
    }
   ],
   "source": [
    "type(None)"
   ]
  },
  {
   "cell_type": "code",
   "execution_count": null,
   "id": "5df97e9a",
   "metadata": {},
   "outputs": [],
   "source": []
  },
  {
   "cell_type": "markdown",
   "id": "347a1bca",
   "metadata": {},
   "source": [
    "### Data Type Methods"
   ]
  },
  {
   "cell_type": "code",
   "execution_count": 22,
   "id": "aafaa647",
   "metadata": {},
   "outputs": [],
   "source": [
    "tiger_name=\"Jonny\"\n",
    "tiger_full_name= tiger_name + \" Singh\""
   ]
  },
  {
   "cell_type": "code",
   "execution_count": 23,
   "id": "c2bbd14e",
   "metadata": {},
   "outputs": [
    {
     "data": {
      "text/plain": [
       "str"
      ]
     },
     "execution_count": 23,
     "metadata": {},
     "output_type": "execute_result"
    }
   ],
   "source": [
    "type(tiger_full_name)"
   ]
  },
  {
   "cell_type": "code",
   "execution_count": 30,
   "id": "49fe2618",
   "metadata": {},
   "outputs": [],
   "source": [
    "red=True"
   ]
  },
  {
   "cell_type": "code",
   "execution_count": 31,
   "id": "76327256",
   "metadata": {},
   "outputs": [
    {
     "data": {
      "text/plain": [
       "bool"
      ]
     },
     "execution_count": 31,
     "metadata": {},
     "output_type": "execute_result"
    }
   ],
   "source": [
    "type(red)"
   ]
  },
  {
   "cell_type": "markdown",
   "id": "75c96f6f",
   "metadata": {},
   "source": [
    "### Operations"
   ]
  },
  {
   "cell_type": "markdown",
   "id": "c2ca0f74",
   "metadata": {},
   "source": [
    "```+ - / *```"
   ]
  },
  {
   "cell_type": "code",
   "execution_count": 32,
   "id": "d53f1063",
   "metadata": {},
   "outputs": [
    {
     "data": {
      "text/plain": [
       "0.8333333333333334"
      ]
     },
     "execution_count": 32,
     "metadata": {},
     "output_type": "execute_result"
    }
   ],
   "source": [
    "x = 5\n",
    "y = 6\n",
    "x/y"
   ]
  },
  {
   "cell_type": "code",
   "execution_count": 33,
   "id": "7b89fc51",
   "metadata": {},
   "outputs": [
    {
     "data": {
      "text/plain": [
       "10"
      ]
     },
     "execution_count": 33,
     "metadata": {},
     "output_type": "execute_result"
    }
   ],
   "source": [
    "x+5"
   ]
  },
  {
   "cell_type": "code",
   "execution_count": 41,
   "id": "05065f29",
   "metadata": {
    "scrolled": true
   },
   "outputs": [
    {
     "data": {
      "text/plain": [
       "13"
      ]
     },
     "execution_count": 41,
     "metadata": {},
     "output_type": "execute_result"
    }
   ],
   "source": [
    "x+=6"
   ]
  },
  {
   "cell_type": "code",
   "execution_count": 42,
   "id": "2a97d708",
   "metadata": {},
   "outputs": [
    {
     "data": {
      "text/plain": [
       "7"
      ]
     },
     "execution_count": 42,
     "metadata": {},
     "output_type": "execute_result"
    }
   ],
   "source": [
    "x"
   ]
  },
  {
   "cell_type": "code",
   "execution_count": 36,
   "id": "8d71b837",
   "metadata": {},
   "outputs": [],
   "source": [
    "x = 7"
   ]
  },
  {
   "cell_type": "code",
   "execution_count": 37,
   "id": "13c77417",
   "metadata": {},
   "outputs": [],
   "source": [
    "y = 6"
   ]
  },
  {
   "cell_type": "code",
   "execution_count": 38,
   "id": "5894a62e",
   "metadata": {},
   "outputs": [
    {
     "data": {
      "text/plain": [
       "True"
      ]
     },
     "execution_count": 38,
     "metadata": {},
     "output_type": "execute_result"
    }
   ],
   "source": [
    "x > y"
   ]
  },
  {
   "cell_type": "code",
   "execution_count": 39,
   "id": "b6d87d38",
   "metadata": {
    "scrolled": true
   },
   "outputs": [
    {
     "data": {
      "text/plain": [
       "False"
      ]
     },
     "execution_count": 39,
     "metadata": {},
     "output_type": "execute_result"
    }
   ],
   "source": [
    "x < y"
   ]
  },
  {
   "cell_type": "code",
   "execution_count": 40,
   "id": "2331a9d8",
   "metadata": {},
   "outputs": [
    {
     "data": {
      "text/plain": [
       "False"
      ]
     },
     "execution_count": 40,
     "metadata": {},
     "output_type": "execute_result"
    }
   ],
   "source": [
    "x == y"
   ]
  },
  {
   "cell_type": "code",
   "execution_count": 43,
   "id": "c5de05bc",
   "metadata": {},
   "outputs": [],
   "source": [
    "num_five = 5"
   ]
  },
  {
   "cell_type": "code",
   "execution_count": 44,
   "id": "d6e5a738",
   "metadata": {},
   "outputs": [],
   "source": [
    "new_num_five = \"5\""
   ]
  },
  {
   "cell_type": "code",
   "execution_count": 45,
   "id": "5d47729f",
   "metadata": {},
   "outputs": [
    {
     "data": {
      "text/plain": [
       "str"
      ]
     },
     "execution_count": 45,
     "metadata": {},
     "output_type": "execute_result"
    }
   ],
   "source": [
    "type(new_num_five)"
   ]
  },
  {
   "cell_type": "code",
   "execution_count": 46,
   "id": "4fef744d",
   "metadata": {
    "scrolled": true
   },
   "outputs": [
    {
     "data": {
      "text/plain": [
       "False"
      ]
     },
     "execution_count": 46,
     "metadata": {},
     "output_type": "execute_result"
    }
   ],
   "source": [
    "num_five == new_num_five"
   ]
  },
  {
   "cell_type": "markdown",
   "id": "5939ae71",
   "metadata": {},
   "source": [
    "Example on None Data Type"
   ]
  },
  {
   "cell_type": "code",
   "execution_count": 2,
   "id": "e7bb3e17",
   "metadata": {},
   "outputs": [],
   "source": [
    "import requests\n",
    "from bs4 import BeautifulSoup"
   ]
  },
  {
   "cell_type": "code",
   "execution_count": 3,
   "id": "e5132e44",
   "metadata": {},
   "outputs": [],
   "source": [
    "url = \"https://github.com/aviikc/prog_fr_art/blob/vfx2023/day_03/class03.ipynb\""
   ]
  },
  {
   "cell_type": "code",
   "execution_count": 4,
   "id": "1be74d35",
   "metadata": {},
   "outputs": [],
   "source": [
    "resp = requests.get(url)\n",
    "soup = BeautifulSoup(resp.text, \"lxml\")"
   ]
  },
  {
   "cell_type": "code",
   "execution_count": 5,
   "id": "e0c705c3",
   "metadata": {},
   "outputs": [],
   "source": [
    "will_make_none = soup.find(\"sdf\")"
   ]
  },
  {
   "cell_type": "code",
   "execution_count": 6,
   "id": "d3a1e4d5",
   "metadata": {},
   "outputs": [
    {
     "name": "stdout",
     "output_type": "stream",
     "text": [
      "None\n"
     ]
    }
   ],
   "source": [
    "print(will_make_none)"
   ]
  },
  {
   "cell_type": "code",
   "execution_count": null,
   "id": "041732d6",
   "metadata": {},
   "outputs": [],
   "source": []
  }
 ],
 "metadata": {
  "kernelspec": {
   "display_name": "Python 3 (ipykernel)",
   "language": "python",
   "name": "python3"
  },
  "language_info": {
   "codemirror_mode": {
    "name": "ipython",
    "version": 3
   },
   "file_extension": ".py",
   "mimetype": "text/x-python",
   "name": "python",
   "nbconvert_exporter": "python",
   "pygments_lexer": "ipython3",
   "version": "3.10.1"
  }
 },
 "nbformat": 4,
 "nbformat_minor": 5
}
