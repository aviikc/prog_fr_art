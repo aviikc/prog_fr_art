{
 "cells": [
  {
   "cell_type": "code",
   "execution_count": 9,
   "id": "2ec7e130",
   "metadata": {},
   "outputs": [],
   "source": [
    "class Spring:\n",
    "    def new_spring(self):\n",
    "        return \"help!\""
   ]
  },
  {
   "cell_type": "code",
   "execution_count": 10,
   "id": "dd1b0304",
   "metadata": {},
   "outputs": [],
   "source": [
    "cat = Spring()"
   ]
  },
  {
   "cell_type": "code",
   "execution_count": 11,
   "id": "878d2c88",
   "metadata": {},
   "outputs": [
    {
     "data": {
      "text/plain": [
       "'help!'"
      ]
     },
     "execution_count": 11,
     "metadata": {},
     "output_type": "execute_result"
    }
   ],
   "source": [
    "cat.new_spring()"
   ]
  },
  {
   "cell_type": "code",
   "execution_count": 14,
   "id": "78352053",
   "metadata": {},
   "outputs": [],
   "source": [
    "my_var = \"whatever\""
   ]
  },
  {
   "cell_type": "code",
   "execution_count": 15,
   "id": "1dbe55e1",
   "metadata": {},
   "outputs": [
    {
     "ename": "NameError",
     "evalue": "name 'String' is not defined",
     "output_type": "error",
     "traceback": [
      "\u001b[1;31m---------------------------------------------------------------------------\u001b[0m",
      "\u001b[1;31mNameError\u001b[0m                                 Traceback (most recent call last)",
      "\u001b[1;32m~\\AppData\\Local\\Temp/ipykernel_17436/641125095.py\u001b[0m in \u001b[0;36m<module>\u001b[1;34m\u001b[0m\n\u001b[1;32m----> 1\u001b[1;33m \u001b[0mmy_var\u001b[0m\u001b[1;33m=\u001b[0m\u001b[0mString\u001b[0m\u001b[1;33m(\u001b[0m\u001b[1;34m\"whatever\"\u001b[0m\u001b[1;33m)\u001b[0m\u001b[1;33m\u001b[0m\u001b[1;33m\u001b[0m\u001b[0m\n\u001b[0m",
      "\u001b[1;31mNameError\u001b[0m: name 'String' is not defined"
     ]
    }
   ],
   "source": [
    "my_var=String(\"whatever\")"
   ]
  },
  {
   "cell_type": "code",
   "execution_count": null,
   "id": "d52a6b02",
   "metadata": {},
   "outputs": [],
   "source": []
  }
 ],
 "metadata": {
  "kernelspec": {
   "display_name": "Python 3 (ipykernel)",
   "language": "python",
   "name": "python3"
  },
  "language_info": {
   "codemirror_mode": {
    "name": "ipython",
    "version": 3
   },
   "file_extension": ".py",
   "mimetype": "text/x-python",
   "name": "python",
   "nbconvert_exporter": "python",
   "pygments_lexer": "ipython3",
   "version": "3.10.1"
  }
 },
 "nbformat": 4,
 "nbformat_minor": 5
}
