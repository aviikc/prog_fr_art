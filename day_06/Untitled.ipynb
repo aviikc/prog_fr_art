{
 "cells": [
  {
   "cell_type": "code",
   "execution_count": 65,
   "id": "3ee5bdb8",
   "metadata": {},
   "outputs": [
    {
     "name": "stdout",
     "output_type": "stream",
     "text": [
      "jfbdfjkbjfdvbdf\"jdb\"234895y566_+_*I^^^^%^$\\tssd\n"
     ]
    }
   ],
   "source": [
    "print('jfbdfjkbjfdvbdf\"jdb\"234895y566_+_*I^^^^%^$\\\\tssd')"
   ]
  },
  {
   "cell_type": "code",
   "execution_count": 66,
   "id": "b3e942d6",
   "metadata": {},
   "outputs": [],
   "source": [
    "# String formatting"
   ]
  },
  {
   "cell_type": "code",
   "execution_count": 67,
   "id": "7abe89f1",
   "metadata": {},
   "outputs": [
    {
     "name": "stdout",
     "output_type": "stream",
     "text": [
      "hjsdfvhksdf\n"
     ]
    }
   ],
   "source": [
    "print(\"hjsdfvhksdf\")"
   ]
  },
  {
   "cell_type": "code",
   "execution_count": 68,
   "id": "fa49c1ff",
   "metadata": {},
   "outputs": [],
   "source": [
    "my_var_a = \"abcde\"\n",
    "my_var_b = \"def\""
   ]
  },
  {
   "cell_type": "code",
   "execution_count": 71,
   "id": "8789c1db",
   "metadata": {},
   "outputs": [
    {
     "name": "stdout",
     "output_type": "stream",
     "text": [
      "abcde dfgbkh def\n"
     ]
    }
   ],
   "source": [
    "print(f\"{my_var_a} dfgbkh {my_var_b}\")"
   ]
  },
  {
   "cell_type": "code",
   "execution_count": 72,
   "id": "6f2a2fce",
   "metadata": {},
   "outputs": [
    {
     "name": "stdout",
     "output_type": "stream",
     "text": [
      "abcde dkfbs def\n"
     ]
    }
   ],
   "source": [
    "print(\"{} dkfbs {}\".format(my_var_a, my_var_b))"
   ]
  },
  {
   "cell_type": "markdown",
   "id": "b39b4f29",
   "metadata": {},
   "source": [
    "#### Tuple"
   ]
  },
  {
   "cell_type": "code",
   "execution_count": 46,
   "id": "83ae877c",
   "metadata": {},
   "outputs": [],
   "source": [
    "my_tup = (12, 34, 56)"
   ]
  },
  {
   "cell_type": "markdown",
   "id": "8f54861e",
   "metadata": {},
   "source": [
    "##### Simple Functions"
   ]
  },
  {
   "cell_type": "markdown",
   "id": "227fc1e6",
   "metadata": {},
   "source": [
    "```def function_name():\n",
    "    pass```"
   ]
  },
  {
   "cell_type": "code",
   "execution_count": 9,
   "id": "1b06c801",
   "metadata": {},
   "outputs": [],
   "source": [
    "def say_hello():\n",
    "    return \"Hello\"\n",
    "#     print(\"Hello\")"
   ]
  },
  {
   "cell_type": "code",
   "execution_count": 10,
   "id": "3ed7d9ec",
   "metadata": {},
   "outputs": [],
   "source": [
    "var = say_hello()"
   ]
  },
  {
   "cell_type": "code",
   "execution_count": 11,
   "id": "feb4229e",
   "metadata": {},
   "outputs": [
    {
     "data": {
      "text/plain": [
       "str"
      ]
     },
     "execution_count": 11,
     "metadata": {},
     "output_type": "execute_result"
    }
   ],
   "source": [
    "type(var)"
   ]
  },
  {
   "cell_type": "markdown",
   "id": "1f71a36e",
   "metadata": {},
   "source": [
    "##### Functions with Arguements"
   ]
  },
  {
   "cell_type": "code",
   "execution_count": 26,
   "id": "4c4a4b8b",
   "metadata": {},
   "outputs": [],
   "source": [
    "def say_hello(sugar, tea, name=0):\n",
    "    op = sugar*3 + tea*4\n",
    "    print(\"Hello \", name+op)"
   ]
  },
  {
   "cell_type": "code",
   "execution_count": 27,
   "id": "89e41398",
   "metadata": {},
   "outputs": [
    {
     "name": "stdout",
     "output_type": "stream",
     "text": [
      "Hello  31\n"
     ]
    }
   ],
   "source": [
    "say_hello(3, 4, 6)"
   ]
  },
  {
   "cell_type": "code",
   "execution_count": 28,
   "id": "6a2e5ec3",
   "metadata": {},
   "outputs": [
    {
     "name": "stdout",
     "output_type": "stream",
     "text": [
      "Hello  33\n"
     ]
    }
   ],
   "source": [
    "say_hello(3,6)"
   ]
  },
  {
   "cell_type": "markdown",
   "id": "a1087dbb",
   "metadata": {},
   "source": [
    "##### Key word arguements"
   ]
  },
  {
   "cell_type": "code",
   "execution_count": 32,
   "id": "83231695",
   "metadata": {},
   "outputs": [],
   "source": [
    "def new_func(f_name, l_name, yob):\n",
    "    print(\"Name: \", f_name+\" \"+l_name)\n",
    "    print(\"\\nAge: \", 2022-yob)"
   ]
  },
  {
   "cell_type": "code",
   "execution_count": 33,
   "id": "27bc38f1",
   "metadata": {},
   "outputs": [
    {
     "name": "stdout",
     "output_type": "stream",
     "text": [
      "Name:  aviik chakraborty\n",
      "\n",
      "Age:  37\n"
     ]
    }
   ],
   "source": [
    "new_func(\"aviik\", \"chakraborty\", 1985)"
   ]
  },
  {
   "cell_type": "code",
   "execution_count": 36,
   "id": "64b80608",
   "metadata": {},
   "outputs": [],
   "source": [
    "def new_func(f_name, l_name, yob=2022):\n",
    "    print(\"Name: \", f_name+\" \"+l_name)\n",
    "    print(\"\\nAge: \", 2022-yob)"
   ]
  },
  {
   "cell_type": "code",
   "execution_count": 38,
   "id": "abf1d8f9",
   "metadata": {},
   "outputs": [
    {
     "name": "stdout",
     "output_type": "stream",
     "text": [
      "Name:  John Doe\n",
      "\n",
      "Age:  52\n"
     ]
    }
   ],
   "source": [
    "new_func(\"John\", \"Doe\", 1970)"
   ]
  },
  {
   "cell_type": "code",
   "execution_count": 52,
   "id": "33ae7f46",
   "metadata": {},
   "outputs": [],
   "source": [
    "def join_strings(str_a, str_c, str_b=\"\"):\n",
    "    print(str_a+str_b+str_c)"
   ]
  },
  {
   "cell_type": "code",
   "execution_count": 53,
   "id": "7b60e126",
   "metadata": {},
   "outputs": [
    {
     "name": "stdout",
     "output_type": "stream",
     "text": [
      "mukulpriyanshu\n"
     ]
    }
   ],
   "source": [
    "join_strings(\"mukul\", \"priyanshu\")"
   ]
  },
  {
   "cell_type": "markdown",
   "id": "2edf0a00",
   "metadata": {},
   "source": [
    "##### File Openning"
   ]
  },
  {
   "cell_type": "code",
   "execution_count": 73,
   "id": "44a0fe02",
   "metadata": {},
   "outputs": [],
   "source": [
    "with open(\"./buy.txt\", \"r\") as some_var:\n",
    "    read_content = some_var.readlines()"
   ]
  },
  {
   "cell_type": "code",
   "execution_count": 74,
   "id": "11741ac8",
   "metadata": {},
   "outputs": [
    {
     "data": {
      "text/plain": [
       "['100 ÂµH, 3.6 A\\n',\n",
       " 'rotary encoder\\n',\n",
       " 'Rotary Switch 1 pole 12 way\\n',\n",
       " 'APR33A3 IC \\n',\n",
       " '28 Pin IC Base']"
      ]
     },
     "execution_count": 74,
     "metadata": {},
     "output_type": "execute_result"
    }
   ],
   "source": [
    "read_content"
   ]
  },
  {
   "cell_type": "code",
   "execution_count": null,
   "id": "0c0fbd05",
   "metadata": {},
   "outputs": [],
   "source": []
  },
  {
   "cell_type": "code",
   "execution_count": 88,
   "id": "e9e2ebc6",
   "metadata": {},
   "outputs": [
    {
     "name": "stdout",
     "output_type": "stream",
     "text": [
      "100 ÂµH, 3.6 A\n",
      "\n",
      "rotary encoder\n",
      "\n",
      "Rotary Switch 1 pole 12 way\n",
      "\n",
      "APR33A3 IC \n",
      "\n",
      "28 Pin IC Base\n"
     ]
    }
   ],
   "source": [
    "for _ in read_content:\n",
    "    print(r\"{}\".format(_))"
   ]
  },
  {
   "cell_type": "code",
   "execution_count": 92,
   "id": "f270ca45",
   "metadata": {},
   "outputs": [
    {
     "name": "stdout",
     "output_type": "stream",
     "text": [
      "40\n"
     ]
    }
   ],
   "source": [
    "with open(\"./names.txt\") as some_file:\n",
    "    con = some_file.readlines()\n",
    "    \n",
    "print(len(con))"
   ]
  },
  {
   "cell_type": "markdown",
   "id": "58203abe",
   "metadata": {},
   "source": [
    "##### Modules"
   ]
  },
  {
   "cell_type": "code",
   "execution_count": 95,
   "id": "9f9bfb8e",
   "metadata": {},
   "outputs": [],
   "source": [
    "import random"
   ]
  },
  {
   "cell_type": "code",
   "execution_count": 105,
   "id": "ef94f390",
   "metadata": {},
   "outputs": [
    {
     "name": "stdout",
     "output_type": "stream",
     "text": [
      "7\n"
     ]
    }
   ],
   "source": [
    "print(random.randint(3, 7))"
   ]
  },
  {
   "cell_type": "code",
   "execution_count": 124,
   "id": "e751407a",
   "metadata": {},
   "outputs": [
    {
     "name": "stdout",
     "output_type": "stream",
     "text": [
      "Winner is  Truman Wynn\n",
      "\n"
     ]
    }
   ],
   "source": [
    "with open(\"./names.txt\", \"r\") as name_file:\n",
    "    name_con = name_file.readlines()\n",
    "    \n",
    "def lottery(names):\n",
    "    winner = names[random.randint(0, len(names))]\n",
    "    print(\"Winner is \", winner)\n",
    "    \n",
    "lottery(name_con)"
   ]
  },
  {
   "cell_type": "code",
   "execution_count": null,
   "id": "408e1422",
   "metadata": {},
   "outputs": [],
   "source": []
  },
  {
   "cell_type": "code",
   "execution_count": null,
   "id": "ef13628e",
   "metadata": {},
   "outputs": [],
   "source": []
  }
 ],
 "metadata": {
  "kernelspec": {
   "display_name": "Python 3 (ipykernel)",
   "language": "python",
   "name": "python3"
  },
  "language_info": {
   "codemirror_mode": {
    "name": "ipython",
    "version": 3
   },
   "file_extension": ".py",
   "mimetype": "text/x-python",
   "name": "python",
   "nbconvert_exporter": "python",
   "pygments_lexer": "ipython3",
   "version": "3.10.1"
  }
 },
 "nbformat": 4,
 "nbformat_minor": 5
}
