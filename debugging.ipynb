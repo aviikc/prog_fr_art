{
 "cells": [
  {
   "cell_type": "code",
   "execution_count": 1,
   "id": "d464a9a2-c4f8-49c4-bfdd-cba1eb697606",
   "metadata": {},
   "outputs": [
    {
     "name": "stdout",
     "output_type": "stream",
     "text": [
      "division by zero\n"
     ]
    }
   ],
   "source": [
    "# try-except block ca anticipate bugs\n",
    "try:\n",
    "    print(23/0)\n",
    "except ZeroDivisionError as e:\n",
    "    print(e)"
   ]
  },
  {
   "cell_type": "code",
   "execution_count": 2,
   "id": "1ef1f823-2da3-42e2-bb02-e8fd5e7b6594",
   "metadata": {},
   "outputs": [],
   "source": [
    "g20_countries = [\"African Union\",\n",
    "                 \"Argentina\", \n",
    "                 \"Australia\",\n",
    "                 \"Brazil\",\n",
    "                 \"Canada\",\n",
    "                 \"China\",\n",
    "                 \"France\",\n",
    "                 \"Germany\",\n",
    "                 \"India\",\n",
    "                 \"Indonesia\",\n",
    "                 \"Italy\",\n",
    "                 \"Japan\",\n",
    "                 \"Mexico\",\n",
    "                 \"Republic of Korea\",\n",
    "                 \"Russia\",\n",
    "                 \"South Africa\",\n",
    "                 \"Saudi Arabia\",\n",
    "                 \"United States of America\",\n",
    "                 \"United Kingdom\",\n",
    "                 \"European Union\",\n",
    "                 \"Turkey\"]"
   ]
  },
  {
   "cell_type": "code",
   "execution_count": 3,
   "id": "bb58e7ee-dd7e-47eb-afa3-475b9deb9ced",
   "metadata": {},
   "outputs": [
    {
     "ename": "AssertionError",
     "evalue": "",
     "output_type": "error",
     "traceback": [
      "\u001b[1;31m---------------------------------------------------------------------------\u001b[0m",
      "\u001b[1;31mAssertionError\u001b[0m                            Traceback (most recent call last)",
      "Cell \u001b[1;32mIn[3], line 3\u001b[0m\n\u001b[0;32m      1\u001b[0m \u001b[38;5;66;03m# assert\u001b[39;00m\n\u001b[0;32m      2\u001b[0m x \u001b[38;5;241m=\u001b[39m \u001b[38;5;241m7\u001b[39m\n\u001b[1;32m----> 3\u001b[0m \u001b[38;5;28;01massert\u001b[39;00m x \u001b[38;5;241m==\u001b[39m \u001b[38;5;241m9\u001b[39m \u001b[38;5;66;03m# Anticipate AssertionError\u001b[39;00m\n",
      "\u001b[1;31mAssertionError\u001b[0m: "
     ]
    }
   ],
   "source": [
    "# assert\n",
    "x = 7\n",
    "assert x == 9 # Anticipate AssertionError"
   ]
  },
  {
   "cell_type": "code",
   "execution_count": null,
   "id": "514b09c6-5729-4daa-9afe-07e8f96dda06",
   "metadata": {},
   "outputs": [],
   "source": [
    "try:\n",
    "    my_country = g20_countries[30]\n",
    "except IndexError as e:\n",
    "    print(e)"
   ]
  },
  {
   "cell_type": "code",
   "execution_count": 14,
   "id": "a3a3940f-ea65-4fa8-a3e9-5e662ab3776d",
   "metadata": {},
   "outputs": [
    {
     "name": "stdout",
     "output_type": "stream",
     "text": [
      "Todo List App\n",
      "Insert a number from the menu: \n",
      "\n",
      "\n",
      "    Show List   -> 1\n",
      "    Insert Item -> 2\n",
      "    Remove Item -> 3\n",
      "    Exit        -> 4\n",
      "    \n"
     ]
    },
    {
     "name": "stdin",
     "output_type": "stream",
     "text": [
      "Enter 1/2/3/4 1\n"
     ]
    },
    {
     "name": "stdout",
     "output_type": "stream",
     "text": [
      "\n",
      "\n",
      "\n",
      "\n",
      "    Show List   -> 1\n",
      "    Insert Item -> 2\n",
      "    Remove Item -> 3\n",
      "    Exit        -> 4\n",
      "    \n"
     ]
    },
    {
     "name": "stdin",
     "output_type": "stream",
     "text": [
      "Enter 1/2/3/4 Buy milk\n"
     ]
    },
    {
     "name": "stdout",
     "output_type": "stream",
     "text": [
      "invalid literal for int() with base 10: 'Buy milk'\n",
      "\n",
      "\n",
      "\n",
      "\n",
      "    Show List   -> 1\n",
      "    Insert Item -> 2\n",
      "    Remove Item -> 3\n",
      "    Exit        -> 4\n",
      "    \n"
     ]
    },
    {
     "name": "stdin",
     "output_type": "stream",
     "text": [
      "Enter 1/2/3/4 1\n"
     ]
    },
    {
     "name": "stdout",
     "output_type": "stream",
     "text": [
      "\n",
      "\n",
      "\n",
      "\n",
      "    Show List   -> 1\n",
      "    Insert Item -> 2\n",
      "    Remove Item -> 3\n",
      "    Exit        -> 4\n",
      "    \n"
     ]
    },
    {
     "name": "stdin",
     "output_type": "stream",
     "text": [
      "Enter 1/2/3/4 1\n"
     ]
    },
    {
     "name": "stdout",
     "output_type": "stream",
     "text": [
      "\n",
      "\n",
      "\n",
      "\n",
      "    Show List   -> 1\n",
      "    Insert Item -> 2\n",
      "    Remove Item -> 3\n",
      "    Exit        -> 4\n",
      "    \n"
     ]
    },
    {
     "name": "stdin",
     "output_type": "stream",
     "text": [
      "Enter 1/2/3/4 1\n"
     ]
    },
    {
     "name": "stdout",
     "output_type": "stream",
     "text": [
      "\n",
      "\n",
      "\n",
      "\n",
      "    Show List   -> 1\n",
      "    Insert Item -> 2\n",
      "    Remove Item -> 3\n",
      "    Exit        -> 4\n",
      "    \n"
     ]
    },
    {
     "name": "stdin",
     "output_type": "stream",
     "text": [
      "Enter 1/2/3/4 4\n"
     ]
    },
    {
     "name": "stdout",
     "output_type": "stream",
     "text": [
      "Tank You! \n"
     ]
    }
   ],
   "source": [
    "# A small to do list which can add remove and display items in a todo list\n",
    "\n",
    "def menu():\n",
    "    return \"\"\"\n",
    "    Show List   -> 1\n",
    "    Insert Item -> 2\n",
    "    Remove Item -> 3\n",
    "    Exit        -> 4\n",
    "    \"\"\"\n",
    "def todo_list():\n",
    "    my_todo_list = [] # List() also works in creating an empty list\n",
    "    print(\"Todo List App\")\n",
    "    print(\"Insert a number from the menu: \")\n",
    "    # print(menu())\n",
    "    while(True):\n",
    "        try:\n",
    "            print()\n",
    "            print(menu())\n",
    "            choice = int(input(\"Enter 1/2/3/4\"))\n",
    "        except ValueError as e:\n",
    "            print(e)\n",
    "        except AttributeError as f:\n",
    "            print(f)\n",
    "            \n",
    "        if choice == 4:\n",
    "            print(\"Tank You! \")\n",
    "            break\n",
    "        elif choice == 1:\n",
    "            print()\n",
    "            print()\n",
    "            for i,j in enumerate(my_todo_list):\n",
    "                print(f\"{i}. {j}\")\n",
    "        elif choice == 2:\n",
    "            item = input(\"Enter a new task: \")\n",
    "            my_todo_list.append(item)\n",
    "            print(f\"{item} added to TODO list.\")\n",
    "            \n",
    "            # break\n",
    "        elif choice == 3:\n",
    "            try:\n",
    "                rem = int(input(\"Enter index of item to remove: \"))\n",
    "                removed_item = my_todo_list.pop(rem)\n",
    "                print(f\"New list is: \\n [{i for i in my_todo_list}]\")\n",
    "                # break\n",
    "            except ValueError as e:\n",
    "                print(e)\n",
    "        else:\n",
    "            print(menu())\n",
    "if __name__ == \"__main__\":\n",
    "    todo_list()"
   ]
  },
  {
   "cell_type": "code",
   "execution_count": null,
   "id": "12eed2ab-3c52-4983-896c-0291a4cd2d5f",
   "metadata": {},
   "outputs": [],
   "source": []
  },
  {
   "cell_type": "code",
   "execution_count": null,
   "id": "845e0058-c837-42d6-9b5d-5681201dff7c",
   "metadata": {},
   "outputs": [],
   "source": []
  }
 ],
 "metadata": {
  "kernelspec": {
   "display_name": "Python 3 (ipykernel)",
   "language": "python",
   "name": "python3"
  },
  "language_info": {
   "codemirror_mode": {
    "name": "ipython",
    "version": 3
   },
   "file_extension": ".py",
   "mimetype": "text/x-python",
   "name": "python",
   "nbconvert_exporter": "python",
   "pygments_lexer": "ipython3",
   "version": "3.10.10"
  }
 },
 "nbformat": 4,
 "nbformat_minor": 5
}
