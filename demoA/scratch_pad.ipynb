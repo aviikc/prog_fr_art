{
 "cells": [
  {
   "cell_type": "code",
   "execution_count": 7,
   "id": "ad5cd13d",
   "metadata": {},
   "outputs": [],
   "source": [
    "from datetime import date, timedelta\n",
    "FORMAT = \"YYYY-MM-DD\""
   ]
  },
  {
   "cell_type": "code",
   "execution_count": 8,
   "id": "33e4eaa8",
   "metadata": {},
   "outputs": [],
   "source": [
    "j = date.today()"
   ]
  },
  {
   "cell_type": "code",
   "execution_count": 9,
   "id": "ac6d3eef",
   "metadata": {},
   "outputs": [
    {
     "data": {
      "text/plain": [
       "datetime.date(2022, 2, 10)"
      ]
     },
     "execution_count": 9,
     "metadata": {},
     "output_type": "execute_result"
    }
   ],
   "source": [
    "j"
   ]
  },
  {
   "cell_type": "code",
   "execution_count": 10,
   "id": "436993c9",
   "metadata": {},
   "outputs": [
    {
     "data": {
      "text/plain": [
       "datetime.date(2022, 2, 9)"
      ]
     },
     "execution_count": 10,
     "metadata": {},
     "output_type": "execute_result"
    }
   ],
   "source": [
    "j - timedelta(days=1)"
   ]
  },
  {
   "cell_type": "code",
   "execution_count": 11,
   "id": "28b0ad32",
   "metadata": {},
   "outputs": [
    {
     "name": "stdout",
     "output_type": "stream",
     "text": [
      "Enter date in YYYY-MM-DD format: 2025-12-21\n"
     ]
    }
   ],
   "source": [
    "some_date = input(f\"Enter date in {FORMAT} format: \")"
   ]
  },
  {
   "cell_type": "code",
   "execution_count": 15,
   "id": "32349848",
   "metadata": {},
   "outputs": [
    {
     "data": {
      "text/plain": [
       "2025"
      ]
     },
     "execution_count": 15,
     "metadata": {},
     "output_type": "execute_result"
    }
   ],
   "source": [
    "int(some_date.split(\"-\")[0])"
   ]
  },
  {
   "cell_type": "code",
   "execution_count": 16,
   "id": "c9d64f19",
   "metadata": {},
   "outputs": [],
   "source": [
    "date_ = date(int(some_date.split(\"-\")[0]),int(some_date.split(\"-\")[1]),int(some_date.split(\"-\")[2]))"
   ]
  },
  {
   "cell_type": "code",
   "execution_count": 17,
   "id": "43f1e865",
   "metadata": {},
   "outputs": [
    {
     "data": {
      "text/plain": [
       "datetime.date(2025, 12, 21)"
      ]
     },
     "execution_count": 17,
     "metadata": {},
     "output_type": "execute_result"
    }
   ],
   "source": [
    "date_"
   ]
  },
  {
   "cell_type": "code",
   "execution_count": null,
   "id": "9c34147a",
   "metadata": {},
   "outputs": [],
   "source": []
  }
 ],
 "metadata": {
  "kernelspec": {
   "display_name": "Python 3 (ipykernel)",
   "language": "python",
   "name": "python3"
  },
  "language_info": {
   "codemirror_mode": {
    "name": "ipython",
    "version": 3
   },
   "file_extension": ".py",
   "mimetype": "text/x-python",
   "name": "python",
   "nbconvert_exporter": "python",
   "pygments_lexer": "ipython3",
   "version": "3.10.1"
  }
 },
 "nbformat": 4,
 "nbformat_minor": 5
}
