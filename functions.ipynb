{
 "cells": [
  {
   "cell_type": "markdown",
   "id": "bc4a50ec-26a1-49bd-be65-07892e5aaccc",
   "metadata": {},
   "source": [
    "- Functions are declared in blocks.\n",
    "- Functions have a function header.\n",
    "- Functions have a function body.\n",
    "- Function bodies have statements.\n",
    "- Functions may or may not return values.\n",
    "- Funtion parameters are called arguements which can be of two types keyword arguements and non-keyword arguements.\n",
    "- "
   ]
  },
  {
   "cell_type": "code",
   "execution_count": null,
   "id": "f9ddcc1d-42a3-4540-b313-af81e1ef8b30",
   "metadata": {},
   "outputs": [],
   "source": [
    "# This step is optional but helps with maintaining a neat\n",
    "# coding structure and improve readablity.\n",
    "\n",
    "# All python scripts can have an entry point function.\n",
    "main()\n",
    "# This can be intitiated with \n",
    "if __name__ == \"__main__\":\n",
    "    main()"
   ]
  },
  {
   "cell_type": "code",
   "execution_count": 2,
   "id": "197889b1-9788-4a0f-85bc-6b6b634d4890",
   "metadata": {},
   "outputs": [],
   "source": [
    "def main(arg_one, arg_2):\n",
    "    if arg_one> arg_2:\n",
    "        print(\"Arg1 is bigger\")\n",
    "    print(\"Arg2 is bigger\")"
   ]
  },
  {
   "cell_type": "code",
   "execution_count": 5,
   "id": "14169e55-ad51-4d7b-b5df-a5358eb1627d",
   "metadata": {},
   "outputs": [
    {
     "name": "stdout",
     "output_type": "stream",
     "text": [
      "Arg2 is bigger\n"
     ]
    }
   ],
   "source": [
    "if __name__ == \"__main__\":\n",
    "    main(223, 444)"
   ]
  },
  {
   "cell_type": "markdown",
   "id": "f6dd074c-3150-40e7-938e-ee92e4874c87",
   "metadata": {},
   "source": [
    "- Create a function with a default argument\n",
    "- Generate a Python list of all the even numbers between 4 to 30\n",
    "- Find the largest item from a given list"
   ]
  },
  {
   "cell_type": "code",
   "execution_count": 21,
   "id": "104e07e8-cd6d-4a78-aacc-63f16795c8f1",
   "metadata": {},
   "outputs": [],
   "source": [
    "# Create a function with a default argument\n",
    "def arg_default( *args ):\n",
    "    print(args)\n",
    "    # print(f\"{x} and {y}\")"
   ]
  },
  {
   "cell_type": "code",
   "execution_count": 23,
   "id": "31b9f53a-afb4-4553-acfb-09daddcb0864",
   "metadata": {},
   "outputs": [
    {
     "name": "stdout",
     "output_type": "stream",
     "text": [
      "(34, 34, 677.3, 'asdas')\n"
     ]
    }
   ],
   "source": [
    "arg_default(34, 34, 677.3, \"asdas\")"
   ]
  },
  {
   "cell_type": "code",
   "execution_count": 34,
   "id": "ea79f152-d2be-465c-90ec-f68cfacc1807",
   "metadata": {},
   "outputs": [
    {
     "name": "stdout",
     "output_type": "stream",
     "text": [
      "2 65 312 766 67 3 123234\n"
     ]
    }
   ],
   "source": [
    "my_list = [2,65, 312, 766, 67, 3, 123234]\n",
    "print(*my_list)"
   ]
  },
  {
   "cell_type": "code",
   "execution_count": 35,
   "id": "378eecc0-3c4e-4e13-9334-eb3e50dd8aff",
   "metadata": {},
   "outputs": [],
   "source": [
    "def largest(list_num):\n",
    "    large = list_num[0]\n",
    "    for i in list_num:\n",
    "        if i>large:\n",
    "            large = i\n",
    "    print(large)"
   ]
  },
  {
   "cell_type": "code",
   "execution_count": 36,
   "id": "5fa99976-fbc0-4e64-9cde-dd724b9ed911",
   "metadata": {},
   "outputs": [
    {
     "name": "stdout",
     "output_type": "stream",
     "text": [
      "123234\n"
     ]
    }
   ],
   "source": [
    "largest(my_list)"
   ]
  },
  {
   "cell_type": "code",
   "execution_count": 37,
   "id": "38d5579e-2b74-4fcf-857d-ad664379e57d",
   "metadata": {},
   "outputs": [],
   "source": [
    "def even_nos(min, max):\n",
    "    even_nos = []\n",
    "    tag = min\n",
    "    while tag<=max:\n",
    "        if tag % 2 == 0:\n",
    "            even_nos.append(tag)\n",
    "        tag += 1\n",
    "    print(even_nos)"
   ]
  },
  {
   "cell_type": "code",
   "execution_count": 38,
   "id": "00837bb5-a61d-4b4d-9c53-6c032dd88690",
   "metadata": {},
   "outputs": [
    {
     "name": "stdout",
     "output_type": "stream",
     "text": [
      "[4, 6, 8, 10, 12, 14, 16, 18, 20, 22, 24, 26, 28, 30]\n"
     ]
    }
   ],
   "source": [
    "even_nos(4, 30)"
   ]
  },
  {
   "cell_type": "code",
   "execution_count": null,
   "id": "3de967d0-8527-4b66-b90a-9f170352eb99",
   "metadata": {},
   "outputs": [],
   "source": []
  }
 ],
 "metadata": {
  "kernelspec": {
   "display_name": "Python 3 (ipykernel)",
   "language": "python",
   "name": "python3"
  },
  "language_info": {
   "codemirror_mode": {
    "name": "ipython",
    "version": 3
   },
   "file_extension": ".py",
   "mimetype": "text/x-python",
   "name": "python",
   "nbconvert_exporter": "python",
   "pygments_lexer": "ipython3",
   "version": "3.11.6"
  }
 },
 "nbformat": 4,
 "nbformat_minor": 5
}
