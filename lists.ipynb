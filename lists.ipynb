{
 "cells": [
  {
   "cell_type": "code",
   "execution_count": 18,
   "id": "4a087442-7558-48f4-9543-0c7e0c0e52db",
   "metadata": {},
   "outputs": [],
   "source": [
    "my_list = [67, 5, 7,9, 23, 27, 45, 76]"
   ]
  },
  {
   "cell_type": "code",
   "execution_count": 19,
   "id": "c4cb3a63-0268-41d7-85e0-91c9e644d7f7",
   "metadata": {},
   "outputs": [],
   "source": [
    "my_list.sort()"
   ]
  },
  {
   "cell_type": "code",
   "execution_count": 20,
   "id": "2392ea27-a9e5-4090-a5fd-369953d37a11",
   "metadata": {},
   "outputs": [],
   "source": [
    "my_list.append(123)"
   ]
  },
  {
   "cell_type": "code",
   "execution_count": 21,
   "id": "3a8288c1-4f24-4a49-b7dc-b5ae9eacbd9e",
   "metadata": {},
   "outputs": [
    {
     "name": "stdout",
     "output_type": "stream",
     "text": [
      "[5, 7, 9, 23, 27, 45, 67, 76, 123]\n"
     ]
    }
   ],
   "source": [
    "print(my_list)"
   ]
  },
  {
   "cell_type": "code",
   "execution_count": 4,
   "id": "be1479ad-7e89-481e-adf7-81087c282fa4",
   "metadata": {},
   "outputs": [
    {
     "data": {
      "text/plain": [
       "9"
      ]
     },
     "execution_count": 4,
     "metadata": {},
     "output_type": "execute_result"
    }
   ],
   "source": [
    "len(my_list)"
   ]
  },
  {
   "cell_type": "code",
   "execution_count": 5,
   "id": "609e596c-ec5d-4186-976f-c5c4bb6b21f5",
   "metadata": {},
   "outputs": [
    {
     "data": {
      "text/plain": [
       "8"
      ]
     },
     "execution_count": 5,
     "metadata": {},
     "output_type": "execute_result"
    }
   ],
   "source": [
    "len(\"dafsdfds\")"
   ]
  },
  {
   "cell_type": "code",
   "execution_count": 28,
   "id": "fe63a59c-8310-4b2b-b18b-098a3ce2177c",
   "metadata": {},
   "outputs": [
    {
     "ename": "TypeError",
     "evalue": "object of type 'int' has no len()",
     "output_type": "error",
     "traceback": [
      "\u001b[1;31m---------------------------------------------------------------------------\u001b[0m",
      "\u001b[1;31mTypeError\u001b[0m                                 Traceback (most recent call last)",
      "Cell \u001b[1;32mIn[28], line 1\u001b[0m\n\u001b[1;32m----> 1\u001b[0m \u001b[38;5;28;43mlen\u001b[39;49m\u001b[43m(\u001b[49m\u001b[38;5;241;43m12\u001b[39;49m\u001b[43m)\u001b[49m \u001b[38;5;66;03m#will throw an error\u001b[39;00m\n",
      "\u001b[1;31mTypeError\u001b[0m: object of type 'int' has no len()"
     ]
    }
   ],
   "source": [
    "len(12) #will throw an error"
   ]
  },
  {
   "cell_type": "code",
   "execution_count": 7,
   "id": "4291b9ba-27b6-4045-a002-fb0d5197446d",
   "metadata": {},
   "outputs": [
    {
     "data": {
      "text/plain": [
       "1"
      ]
     },
     "execution_count": 7,
     "metadata": {},
     "output_type": "execute_result"
    }
   ],
   "source": [
    "len({\"as\": \"read\"})"
   ]
  },
  {
   "cell_type": "code",
   "execution_count": 8,
   "id": "7956dc26-e5d4-4965-8c7a-91b31ec410a6",
   "metadata": {},
   "outputs": [],
   "source": [
    "my_to_do_list = []"
   ]
  },
  {
   "cell_type": "code",
   "execution_count": 9,
   "id": "36ebe81d-bf32-4093-8026-ebe712feb1d4",
   "metadata": {},
   "outputs": [],
   "source": [
    "my_to_do_list.append(\"study programming\")"
   ]
  },
  {
   "cell_type": "code",
   "execution_count": 10,
   "id": "d6ad7af8-ce5c-4f11-ada2-823a4c871803",
   "metadata": {},
   "outputs": [],
   "source": [
    "my_to_do_list.append(\"make brakfast\")"
   ]
  },
  {
   "cell_type": "code",
   "execution_count": 11,
   "id": "9431e5ac-8aaf-470d-9d56-f8da7175c4f2",
   "metadata": {},
   "outputs": [],
   "source": [
    "my_to_do_list.append(\"goto college\")"
   ]
  },
  {
   "cell_type": "code",
   "execution_count": 12,
   "id": "65892e2a-88ef-4453-bbce-27dbb1f12f66",
   "metadata": {},
   "outputs": [
    {
     "name": "stdout",
     "output_type": "stream",
     "text": [
      "study programming\n",
      "make brakfast\n",
      "goto college\n"
     ]
    }
   ],
   "source": [
    "for k in my_to_do_list:\n",
    "    print(k)"
   ]
  },
  {
   "cell_type": "code",
   "execution_count": 13,
   "id": "4d719950-c41e-465f-a243-b4044600c77b",
   "metadata": {},
   "outputs": [
    {
     "name": "stdin",
     "output_type": "stream",
     "text": [
      "Enter things to do buy biscuits\n"
     ]
    }
   ],
   "source": [
    "y = input(\"Enter things to do\")\n",
    "my_to_do_list.append(y)"
   ]
  },
  {
   "cell_type": "code",
   "execution_count": 14,
   "id": "03304ee5-77a4-44a7-b2d4-96726e31e9cd",
   "metadata": {},
   "outputs": [
    {
     "name": "stdout",
     "output_type": "stream",
     "text": [
      "study programming\n",
      "make brakfast\n",
      "goto college\n",
      "buy biscuits\n"
     ]
    }
   ],
   "source": [
    "for k in my_to_do_list:\n",
    "    print(k)"
   ]
  },
  {
   "cell_type": "markdown",
   "id": "986d2be8-bdfa-48d8-8bd7-a3fe9cf023bb",
   "metadata": {},
   "source": [
    "- append()\tAdds an element at the end of the list\r",
    "- \n",
    "clear()\tRemoves all the elements from the lis\n",
    "- \r\n",
    "copy()\tReturns a copy of the li\n",
    "- count()\tReturns the number of elements with the specified value\r\n",
    "- extend()\tAdd the elements of a list (or any iterable), to the end of the current list\r\n",
    "- index()\tReturns the index of the first element with the specified value\r\n",
    "- insert()\tAdds an element at the specified position\r\n",
    "- pop()\t\tRemoves the element at the specified position\r\n",
    "- remove()\tRemoves the item with the specified value\r\n",
    "- reverse()\tReverses the order of the list\r\n",
    "- sort()\tSorts the lists the list"
   ]
  },
  {
   "cell_type": "code",
   "execution_count": 33,
   "id": "91377a95-af5d-4b58-9f40-7ccef44aedd7",
   "metadata": {},
   "outputs": [
    {
     "name": "stdout",
     "output_type": "stream",
     "text": [
      "[5, 7, 9, 23, 27, 45, 67, 76, 123]\n"
     ]
    }
   ],
   "source": [
    "new_list = my_list.copy() # Creates a hard copy of the list\n",
    "print(new_list)"
   ]
  },
  {
   "cell_type": "code",
   "execution_count": 34,
   "id": "eeb41d52-e42c-4efb-9965-662b139b2ddf",
   "metadata": {},
   "outputs": [
    {
     "name": "stdout",
     "output_type": "stream",
     "text": [
      "[5, 7, 9, 23, 27, 45, 67, 76, 123, 45]\n"
     ]
    }
   ],
   "source": [
    "new_list.append(45)\n",
    "print(new_list)"
   ]
  },
  {
   "cell_type": "code",
   "execution_count": 35,
   "id": "8668df77-727c-4829-af77-56728180275c",
   "metadata": {},
   "outputs": [
    {
     "data": {
      "text/plain": [
       "2"
      ]
     },
     "execution_count": 35,
     "metadata": {},
     "output_type": "execute_result"
    }
   ],
   "source": [
    "new_list.count(45)"
   ]
  },
  {
   "cell_type": "code",
   "execution_count": 62,
   "id": "e71e8727-9d1a-4a09-8ec3-2ec4631e2d68",
   "metadata": {},
   "outputs": [
    {
     "name": "stdout",
     "output_type": "stream",
     "text": [
      "['apple', 'banana', 'grapes', 'kiwis', 'dragon fruit', 'mangosten']\n",
      "['red', 'magenta', 'pink', 'maroon', 'cobalt_blue', 'sky_blue', 'aqua_marine', 'olive_green', 'military_green', 'moss_green']\n"
     ]
    }
   ],
   "source": [
    "# if we want to extend a list with another list use extend insted of append\n",
    "list_fruits = [\"apple\", \"banana\", \"grapes\"]\n",
    "list_exotic_fruits = [\"kiwis\", \"dragon fruit\", \"mangosten\"]\n",
    "list_fruits.extend(list_exotic_fruits)\n",
    "print(list_fruits)\n",
    "# The extend method does not return a value it mutates the list with the new additions.\n",
    "\n",
    "# to return extend a list and store in a separate variable use \"+\"\n",
    "colors_red = [\"red\", \"magenta\", \"pink\", \"maroon\"]\n",
    "colors_blue = [\"cobalt_blue\", \"sky_blue\", \"aqua_marine\"]\n",
    "colors_green = [\"olive_green\", \"military_green\", \"moss_green\"]\n",
    "pallate = colors_red + colors_blue + colors_green\n",
    "print(pallate)"
   ]
  },
  {
   "cell_type": "code",
   "execution_count": 63,
   "id": "98231e85-7501-4598-a512-2929368cc927",
   "metadata": {},
   "outputs": [
    {
     "data": {
      "text/plain": [
       "7"
      ]
     },
     "execution_count": 63,
     "metadata": {},
     "output_type": "execute_result"
    }
   ],
   "source": [
    "pallate.index(\"olive_green\") # -> 7"
   ]
  },
  {
   "cell_type": "code",
   "execution_count": 64,
   "id": "19df92a4-816d-45fa-98ee-6a6f01a63990",
   "metadata": {},
   "outputs": [
    {
     "name": "stdout",
     "output_type": "stream",
     "text": [
      "brown not in pallate\n"
     ]
    }
   ],
   "source": [
    "# we can search for items in a list with a try - except condition\n",
    "# instead of throwing an error\n",
    "\n",
    "try:\n",
    "    pallate.index(\"brown\")\n",
    "except ValueError as e:\n",
    "    print(\"brown not in pallate\")"
   ]
  },
  {
   "cell_type": "code",
   "execution_count": 65,
   "id": "b7593a3b-88ab-42f5-a613-5965b1f4c284",
   "metadata": {},
   "outputs": [
    {
     "name": "stdout",
     "output_type": "stream",
     "text": [
      "['red', 'magenta', 'pink', 'maroon', 'cobalt_blue', 'grey', 'sky_blue', 'aqua_marine', 'olive_green', 'military_green', 'moss_green']\n"
     ]
    }
   ],
   "source": [
    "pallate.insert(5, \"grey\") # this will add \"grey to the fifth index\"\n",
    "print(pallate)"
   ]
  },
  {
   "cell_type": "code",
   "execution_count": 66,
   "id": "38f19c24-ff63-42da-ba6d-f8b894ebb1ea",
   "metadata": {},
   "outputs": [
    {
     "name": "stdout",
     "output_type": "stream",
     "text": [
      "moss_green\n",
      "['red', 'magenta', 'pink', 'maroon', 'cobalt_blue', 'grey', 'sky_blue', 'aqua_marine', 'olive_green', 'military_green']\n"
     ]
    }
   ],
   "source": [
    "last_elem = pallate.pop()\n",
    "print(last_elem)\n",
    "print(pallate)"
   ]
  },
  {
   "cell_type": "code",
   "execution_count": 67,
   "id": "9ded0889-aee0-496a-b414-61ff4878f293",
   "metadata": {},
   "outputs": [
    {
     "name": "stdout",
     "output_type": "stream",
     "text": [
      "['red', 'magenta', 'maroon', 'cobalt_blue', 'grey', 'sky_blue', 'aqua_marine', 'olive_green', 'military_green']\n"
     ]
    }
   ],
   "source": [
    "pallate.remove(\"pink\")\n",
    "print(pallate)"
   ]
  },
  {
   "cell_type": "code",
   "execution_count": 70,
   "id": "cb8cf828-ec9f-4f5d-85e2-d049982b68d7",
   "metadata": {},
   "outputs": [
    {
     "name": "stdout",
     "output_type": "stream",
     "text": [
      "None\n",
      "['sky_blue', 'red', 'olive_green', 'military_green', 'maroon', 'magenta', 'grey', 'cobalt_blue', 'aqua_marine']\n"
     ]
    }
   ],
   "source": [
    "# reverse \n",
    "k = pallate.sort()\n",
    "print(k)\n",
    "pallate.reverse()\n",
    "print(pallate)"
   ]
  },
  {
   "cell_type": "code",
   "execution_count": 56,
   "id": "29d6c68d-3de8-42f4-b02d-1c3e79a50b35",
   "metadata": {},
   "outputs": [
    {
     "name": "stdout",
     "output_type": "stream",
     "text": [
      "range(3, 9)\n",
      "<class 'range'>\n",
      "[1, 2, 3, 4, 5, 6, 7, 8, 9]\n"
     ]
    }
   ],
   "source": [
    "# range() can generate values in a given between a minimum\n",
    "# and maximum value \n",
    "my_nums = range(3, 9)\n",
    "print(my_nums)\n",
    "print(type(my_nums))\n",
    "# please note the last value is not inclusive\n",
    "list_of_nums = [i for i in range(1, 10)] \n",
    "\n",
    "#This lso called a list comprehension eg [i for i in range(1, 10)] \n",
    "# and is a very important way to work with lists in Python\n",
    "\n",
    "print(list_of_nums)"
   ]
  },
  {
   "cell_type": "code",
   "execution_count": null,
   "id": "ab4ac94d-f383-4908-8f05-cab0926c5ed2",
   "metadata": {},
   "outputs": [],
   "source": []
  }
 ],
 "metadata": {
  "kernelspec": {
   "display_name": "Python 3 (ipykernel)",
   "language": "python",
   "name": "python3"
  },
  "language_info": {
   "codemirror_mode": {
    "name": "ipython",
    "version": 3
   },
   "file_extension": ".py",
   "mimetype": "text/x-python",
   "name": "python",
   "nbconvert_exporter": "python",
   "pygments_lexer": "ipython3",
   "version": "3.10.10"
  }
 },
 "nbformat": 4,
 "nbformat_minor": 5
}
