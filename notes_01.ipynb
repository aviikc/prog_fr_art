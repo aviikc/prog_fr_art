{
 "cells": [
  {
   "cell_type": "markdown",
   "metadata": {},
   "source": [
    "# Programming for artists"
   ]
  },
  {
   "cell_type": "markdown",
   "metadata": {},
   "source": [
    "## Standard Data Types"
   ]
  },
  {
   "cell_type": "markdown",
   "metadata": {},
   "source": [
    "Every name and every expression has a type that determines the operations that may be performed on it. \n",
    "\n",
    "A declaration is a statement that introduces an identifier into the program.\n",
    "A Variable is a piece of data which can be stored. The value of this data can be changed."
   ]
  },
  {
   "cell_type": "code",
   "execution_count": null,
   "metadata": {},
   "outputs": [],
   "source": [
    "name = \"aviik\"\n",
    "name.upper()\n",
    "\n",
    "# Variable name is of type String. that is name is a name is a string value."
   ]
  },
  {
   "cell_type": "markdown",
   "metadata": {},
   "source": [
    "- Numeric\n",
    "- Sequence Type\n",
    "- Boolean\n",
    "- Set\n",
    "- Dictionary\n",
    "- Binary Typesbool\n",
    "- string\n",
    "- int\n",
    "- float\n"
   ]
  },
  {
   "cell_type": "code",
   "execution_count": 4,
   "metadata": {},
   "outputs": [],
   "source": [
    "# DataType : NoneType\n",
    "foo = None\n",
    "\n",
    "# DataType : bool\n",
    "tag = True\n",
    "\n",
    "# DataType Output: str\n",
    "message = \"Hello World\"\n",
    "\n",
    "# DataType : bytes\n",
    "x = b\"Programming for Artists\"\n",
    "\n",
    "# DataType : int\n",
    "x = 50\n",
    " \n",
    "# DataType : float\n",
    "y = 22.5\n",
    " \n",
    "# DataType : complex\n",
    "z = 7.5j\n",
    " \n",
    "# DataType: list\n",
    "shapes = [\"sphere\", \"grid\", \"torus\", \"suzzane\"]\n",
    " \n",
    "# DataType : tuple\n",
    "menu = (\"file\", \"edit\", \"tools\", \"view\")\n",
    " \n",
    "# DataType : range\n",
    "data = range(10)\n",
    " \n",
    "# DataType : set\n",
    "unique = {3, 5, 7}\n",
    "\n",
    "# DataType Output: dict\n",
    "my_dict = {\"name\": \"Aviik\", \"speed\": 60}\n",
    " \n",
    "\n",
    " \n",
    "\n",
    " \n",
    "# DataType : bytearray\n",
    "x = bytearray(4)\n",
    " \n",
    "# DataType : memoryview\n",
    "x = memoryview(bytes(6))\n",
    " \n"
   ]
  },
  {
   "cell_type": "markdown",
   "metadata": {},
   "source": [
    "## Operators"
   ]
  },
  {
   "cell_type": "markdown",
   "metadata": {},
   "source": [
    "#### Arithmatic Operations\n",
    "```\n",
    "+               # plus\n",
    "-               # minus\n",
    "*               # multiply\n",
    "/               # divide\n",
    "%               # remainder\n",
    "```"
   ]
  },
  {
   "cell_type": "markdown",
   "metadata": {},
   "source": [
    "#### Comparison Operations\n",
    "```\n",
    "==              # equal\n",
    "!=              # not equal\n",
    "<               # less than\n",
    ">               # greater than\n",
    "<=              # less than or equal\n",
    ">=              # greater than or equal\n",
    "```"
   ]
  },
  {
   "cell_type": "markdown",
   "metadata": {},
   "source": [
    "In Python, = is the assignment operator and == tests equality."
   ]
  },
  {
   "cell_type": "code",
   "execution_count": 6,
   "metadata": {},
   "outputs": [
    {
     "data": {
      "text/plain": [
       "False"
      ]
     },
     "execution_count": 6,
     "metadata": {},
     "output_type": "execute_result"
    }
   ],
   "source": [
    "#TODO: some arithmatic operations\n",
    "x = 50\n",
    "y = 40\n",
    "r = 3.7\n",
    "s = 7.3\n",
    "\n",
    "add_total = x + y + r + s\n",
    "\n",
    "sub_total = x - y\n",
    "\n",
    "div_result = x/y\n",
    "\n",
    "mult_result = x*r\n",
    "\n",
    "#TODO: some comparison operations\n",
    "\n",
    "True == False"
   ]
  },
  {
   "cell_type": "markdown",
   "metadata": {},
   "source": [
    "The types of locals and globals can be annotated as follows:"
   ]
  },
  {
   "cell_type": "code",
   "execution_count": 14,
   "metadata": {},
   "outputs": [],
   "source": [
    "# Type anotations\n",
    "# For most types, just use the name of the type in the annotation\n",
    "# Note that mypy can usually infer the type of a variable from its value,\n",
    "# so technically these annotations are redundant\n",
    "x: int = 1\n",
    "x: float = 1.0\n",
    "x: bool = True\n",
    "x: str = \"test\"\n",
    "x: bytes = b\"test\"\n",
    "\n",
    "\n",
    "my_var_a: int           # variable without initial value\n",
    "myvar_a: float           # variable without initial value\n",
    "myVar_c: str           # variable without initial value\n",
    "some_number: int           # variable without initial value"
   ]
  },
  {
   "cell_type": "code",
   "execution_count": 10,
   "metadata": {},
   "outputs": [],
   "source": [
    "# By default Python type is not strong. Type hints do not do any type checking.\n",
    "x :int = 45.3"
   ]
  },
  {
   "cell_type": "code",
   "execution_count": 12,
   "metadata": {},
   "outputs": [
    {
     "data": {
      "text/plain": [
       "{'x': int, 'my_var_a': int, 'myvar_a': float, 'myVar_c': str}"
      ]
     },
     "execution_count": 12,
     "metadata": {},
     "output_type": "execute_result"
    }
   ],
   "source": [
    "from typing import get_type_hints\n",
    "import __main__\n",
    "get_type_hints(__main__)"
   ]
  },
  {
   "cell_type": "markdown",
   "metadata": {},
   "source": [
    "## Collections"
   ]
  },
  {
   "cell_type": "code",
   "execution_count": null,
   "metadata": {},
   "outputs": [],
   "source": []
  }
 ],
 "metadata": {
  "kernelspec": {
   "display_name": "Python 3 (ipykernel)",
   "language": "python",
   "name": "python3"
  },
  "language_info": {
   "codemirror_mode": {
    "name": "ipython",
    "version": 3
   },
   "file_extension": ".py",
   "mimetype": "text/x-python",
   "name": "python",
   "nbconvert_exporter": "python",
   "pygments_lexer": "ipython3",
   "version": "3.11.5"
  }
 },
 "nbformat": 4,
 "nbformat_minor": 4
}
