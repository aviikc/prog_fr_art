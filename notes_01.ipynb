{
 "cells": [
  {
   "cell_type": "markdown",
   "metadata": {},
   "source": [
    "# Programming for artists"
   ]
  },
  {
   "cell_type": "markdown",
   "metadata": {},
   "source": [
    "## Standard Data Types"
   ]
  },
  {
   "cell_type": "markdown",
   "metadata": {},
   "source": [
    "Every name and every expression has a type that determines the operations that may be performed on it. \n",
    "\n",
    "A declaration is a statement that introduces an identifier into the program.\n",
    "A Variable is a piece of data which can be stored. The value of this data can be changed."
   ]
  },
  {
   "cell_type": "code",
   "execution_count": null,
   "metadata": {},
   "outputs": [],
   "source": [
    "name = \"aviik\"\n",
    "name.upper()\n",
    "\n",
    "# Variable name is of type String. that is name is a name is a string value."
   ]
  },
  {
   "cell_type": "markdown",
   "metadata": {},
   "source": [
    "- Numeric\n",
    "- Sequence Type\n",
    "- Boolean\n",
    "- Set\n",
    "- Dictionary\n",
    "- Binary Typesbool\n",
    "- string\n",
    "- int\n",
    "- float\n"
   ]
  },
  {
   "cell_type": "code",
   "execution_count": 4,
   "metadata": {},
   "outputs": [],
   "source": [
    "# DataType : NoneType\n",
    "foo = None\n",
    "\n",
    "# DataType : bool\n",
    "tag = True\n",
    "\n",
    "# DataType Output: str\n",
    "message = \"Hello World\"\n",
    "\n",
    "# DataType : bytes\n",
    "x = b\"Programming for Artists\"\n",
    "\n",
    "# DataType : int\n",
    "x = 50\n",
    " \n",
    "# DataType : float\n",
    "y = 22.5\n",
    " \n",
    "# DataType : complex\n",
    "z = 7.5j\n",
    " \n",
    "# DataType: list\n",
    "shapes = [\"sphere\", \"grid\", \"torus\", \"suzzane\"]\n",
    " \n",
    "# DataType : tuple\n",
    "menu = (\"file\", \"edit\", \"tools\", \"view\")\n",
    " \n",
    "# DataType : range\n",
    "data = range(10)\n",
    " \n",
    "# DataType : set\n",
    "unique = {3, 5, 7}\n",
    "\n",
    "# DataType Output: dict\n",
    "my_dict = {\"name\": \"Aviik\", \"speed\": 60}\n",
    " \n",
    "\n",
    " \n",
    "\n",
    " \n",
    "# DataType : bytearray\n",
    "x = bytearray(4)\n",
    " \n",
    "# DataType : memoryview\n",
    "x = memoryview(bytes(6))\n",
    " \n"
   ]
  },
  {
   "cell_type": "markdown",
   "metadata": {},
   "source": [
    "## Operators"
   ]
  },
  {
   "cell_type": "markdown",
   "metadata": {},
   "source": [
    "#### Arithmatic Operations\n",
    "```\n",
    "+               # plus\n",
    "-               # minus\n",
    "*               # multiply\n",
    "/               # divide\n",
    "%               # remainder\n",
    "```"
   ]
  },
  {
   "cell_type": "markdown",
   "metadata": {},
   "source": [
    "#### Comparison Operations\n",
    "```\n",
    "==              # equal\n",
    "!=              # not equal\n",
    "<               # less than\n",
    ">               # greater than\n",
    "<=              # less than or equal\n",
    ">=              # greater than or equal\n",
    "```"
   ]
  },
  {
   "cell_type": "markdown",
   "metadata": {},
   "source": [
    "In Python, = is the assignment operator and == tests equality."
   ]
  },
  {
   "cell_type": "code",
   "execution_count": 1,
   "metadata": {},
   "outputs": [],
   "source": [
    "#TODO: some arithmatic operations\n",
    "x = 50\n",
    "y = 40\n",
    "r = 3.7\n",
    "s = 7.3\n",
    "\n",
    "add_total = x + y + r + s\n",
    "\n",
    "sub_total = x - y\n",
    "\n",
    "div_result = x/y\n",
    "\n",
    "mult_result = x*r\n",
    "\n",
    "#TODO: some comparison operations\n",
    "\n",
    "True == False"
   ]
  }
 ],
 "metadata": {
  "kernelspec": {
   "display_name": "Python 3 (ipykernel)",
   "language": "python",
   "name": "python3"
  },
  "language_info": {
   "codemirror_mode": {
    "name": "ipython",
    "version": 3
   },
   "file_extension": ".py",
   "mimetype": "text/x-python",
   "name": "python",
   "nbconvert_exporter": "python",
   "pygments_lexer": "ipython3",
   "version": "3.10.10"
  }
 },
 "nbformat": 4,
 "nbformat_minor": 4
}
