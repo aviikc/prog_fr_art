{
 "cells": [
  {
   "cell_type": "markdown",
   "id": "f5ccb100-730e-416e-8137-9f6cb77d5251",
   "metadata": {},
   "source": [
    "# Serialization\n",
    "Taking an in momory object and saving it in a file in a defined format."
   ]
  },
  {
   "cell_type": "code",
   "execution_count": null,
   "id": "f232995a-ac9d-4a9a-be07-22c36ded1720",
   "metadata": {},
   "outputs": [],
   "source": []
  }
 ],
 "metadata": {
  "kernelspec": {
   "display_name": "Python 3 (ipykernel)",
   "language": "python",
   "name": "python3"
  },
  "language_info": {
   "codemirror_mode": {
    "name": "ipython",
    "version": 3
   },
   "file_extension": ".py",
   "mimetype": "text/x-python",
   "name": "python",
   "nbconvert_exporter": "python",
   "pygments_lexer": "ipython3",
   "version": "3.10.10"
  }
 },
 "nbformat": 4,
 "nbformat_minor": 5
}
